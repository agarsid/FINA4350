{
  "nbformat": 4,
  "nbformat_minor": 0,
  "metadata": {
    "kernelspec": {
      "display_name": "Python 3",
      "language": "python",
      "name": "python3"
    },
    "language_info": {
      "codemirror_mode": {
        "name": "ipython",
        "version": 3
      },
      "file_extension": ".py",
      "mimetype": "text/x-python",
      "name": "python",
      "nbconvert_exporter": "python",
      "pygments_lexer": "ipython3",
      "version": "3.7.7"
    },
    "colab": {
      "name": "SpeechesClean.ipynb",
      "provenance": [],
      "collapsed_sections": [
        "o0tKFfRWrPWW",
        "FZCzhjVirPXB",
        "Ul0LuonRrPZI",
        "UB04q44IrPaK",
        "a-_BChL4rPaR"
      ],
      "toc_visible": true
    },
    "widgets": {
      "application/vnd.jupyter.widget-state+json": {
        "bc200ad59f864598aba6ada285a1d24d": {
          "model_module": "@jupyter-widgets/controls",
          "model_name": "HBoxModel",
          "state": {
            "_view_name": "HBoxView",
            "_dom_classes": [],
            "_model_name": "HBoxModel",
            "_view_module": "@jupyter-widgets/controls",
            "_model_module_version": "1.5.0",
            "_view_count": null,
            "_view_module_version": "1.5.0",
            "box_style": "",
            "layout": "IPY_MODEL_e727dc61acac4c799a40d93afcd710f2",
            "_model_module": "@jupyter-widgets/controls",
            "children": [
              "IPY_MODEL_8df2a5a327eb40f3bdd1bcb28d60e58d",
              "IPY_MODEL_23a2821a3e704c129ca9db93eae032f3"
            ]
          }
        },
        "e727dc61acac4c799a40d93afcd710f2": {
          "model_module": "@jupyter-widgets/base",
          "model_name": "LayoutModel",
          "state": {
            "_view_name": "LayoutView",
            "grid_template_rows": null,
            "right": null,
            "justify_content": null,
            "_view_module": "@jupyter-widgets/base",
            "overflow": null,
            "_model_module_version": "1.2.0",
            "_view_count": null,
            "flex_flow": null,
            "width": null,
            "min_width": null,
            "border": null,
            "align_items": null,
            "bottom": null,
            "_model_module": "@jupyter-widgets/base",
            "top": null,
            "grid_column": null,
            "overflow_y": null,
            "overflow_x": null,
            "grid_auto_flow": null,
            "grid_area": null,
            "grid_template_columns": null,
            "flex": null,
            "_model_name": "LayoutModel",
            "justify_items": null,
            "grid_row": null,
            "max_height": null,
            "align_content": null,
            "visibility": null,
            "align_self": null,
            "height": null,
            "min_height": null,
            "padding": null,
            "grid_auto_rows": null,
            "grid_gap": null,
            "max_width": null,
            "order": null,
            "_view_module_version": "1.2.0",
            "grid_template_areas": null,
            "object_position": null,
            "object_fit": null,
            "grid_auto_columns": null,
            "margin": null,
            "display": null,
            "left": null
          }
        },
        "8df2a5a327eb40f3bdd1bcb28d60e58d": {
          "model_module": "@jupyter-widgets/controls",
          "model_name": "FloatProgressModel",
          "state": {
            "_view_name": "ProgressView",
            "style": "IPY_MODEL_1d717102616744f98cc8aeaab9f3419f",
            "_dom_classes": [],
            "description": "100%",
            "_model_name": "FloatProgressModel",
            "bar_style": "success",
            "max": 749,
            "_view_module": "@jupyter-widgets/controls",
            "_model_module_version": "1.5.0",
            "value": 749,
            "_view_count": null,
            "_view_module_version": "1.5.0",
            "orientation": "horizontal",
            "min": 0,
            "description_tooltip": null,
            "_model_module": "@jupyter-widgets/controls",
            "layout": "IPY_MODEL_6aa45195c5e44fbf9b00f4179354ec5c"
          }
        },
        "23a2821a3e704c129ca9db93eae032f3": {
          "model_module": "@jupyter-widgets/controls",
          "model_name": "HTMLModel",
          "state": {
            "_view_name": "HTMLView",
            "style": "IPY_MODEL_7da64ba6f3414b639dc39e1bf77fe784",
            "_dom_classes": [],
            "description": "",
            "_model_name": "HTMLModel",
            "placeholder": "​",
            "_view_module": "@jupyter-widgets/controls",
            "_model_module_version": "1.5.0",
            "value": " 749/749 [00:04&lt;00:00, 179.25it/s]",
            "_view_count": null,
            "_view_module_version": "1.5.0",
            "description_tooltip": null,
            "_model_module": "@jupyter-widgets/controls",
            "layout": "IPY_MODEL_750e2564922a4d7988341c39028ff94a"
          }
        },
        "1d717102616744f98cc8aeaab9f3419f": {
          "model_module": "@jupyter-widgets/controls",
          "model_name": "ProgressStyleModel",
          "state": {
            "_view_name": "StyleView",
            "_model_name": "ProgressStyleModel",
            "description_width": "initial",
            "_view_module": "@jupyter-widgets/base",
            "_model_module_version": "1.5.0",
            "_view_count": null,
            "_view_module_version": "1.2.0",
            "bar_color": null,
            "_model_module": "@jupyter-widgets/controls"
          }
        },
        "6aa45195c5e44fbf9b00f4179354ec5c": {
          "model_module": "@jupyter-widgets/base",
          "model_name": "LayoutModel",
          "state": {
            "_view_name": "LayoutView",
            "grid_template_rows": null,
            "right": null,
            "justify_content": null,
            "_view_module": "@jupyter-widgets/base",
            "overflow": null,
            "_model_module_version": "1.2.0",
            "_view_count": null,
            "flex_flow": null,
            "width": null,
            "min_width": null,
            "border": null,
            "align_items": null,
            "bottom": null,
            "_model_module": "@jupyter-widgets/base",
            "top": null,
            "grid_column": null,
            "overflow_y": null,
            "overflow_x": null,
            "grid_auto_flow": null,
            "grid_area": null,
            "grid_template_columns": null,
            "flex": null,
            "_model_name": "LayoutModel",
            "justify_items": null,
            "grid_row": null,
            "max_height": null,
            "align_content": null,
            "visibility": null,
            "align_self": null,
            "height": null,
            "min_height": null,
            "padding": null,
            "grid_auto_rows": null,
            "grid_gap": null,
            "max_width": null,
            "order": null,
            "_view_module_version": "1.2.0",
            "grid_template_areas": null,
            "object_position": null,
            "object_fit": null,
            "grid_auto_columns": null,
            "margin": null,
            "display": null,
            "left": null
          }
        },
        "7da64ba6f3414b639dc39e1bf77fe784": {
          "model_module": "@jupyter-widgets/controls",
          "model_name": "DescriptionStyleModel",
          "state": {
            "_view_name": "StyleView",
            "_model_name": "DescriptionStyleModel",
            "description_width": "",
            "_view_module": "@jupyter-widgets/base",
            "_model_module_version": "1.5.0",
            "_view_count": null,
            "_view_module_version": "1.2.0",
            "_model_module": "@jupyter-widgets/controls"
          }
        },
        "750e2564922a4d7988341c39028ff94a": {
          "model_module": "@jupyter-widgets/base",
          "model_name": "LayoutModel",
          "state": {
            "_view_name": "LayoutView",
            "grid_template_rows": null,
            "right": null,
            "justify_content": null,
            "_view_module": "@jupyter-widgets/base",
            "overflow": null,
            "_model_module_version": "1.2.0",
            "_view_count": null,
            "flex_flow": null,
            "width": null,
            "min_width": null,
            "border": null,
            "align_items": null,
            "bottom": null,
            "_model_module": "@jupyter-widgets/base",
            "top": null,
            "grid_column": null,
            "overflow_y": null,
            "overflow_x": null,
            "grid_auto_flow": null,
            "grid_area": null,
            "grid_template_columns": null,
            "flex": null,
            "_model_name": "LayoutModel",
            "justify_items": null,
            "grid_row": null,
            "max_height": null,
            "align_content": null,
            "visibility": null,
            "align_self": null,
            "height": null,
            "min_height": null,
            "padding": null,
            "grid_auto_rows": null,
            "grid_gap": null,
            "max_width": null,
            "order": null,
            "_view_module_version": "1.2.0",
            "grid_template_areas": null,
            "object_position": null,
            "object_fit": null,
            "grid_auto_columns": null,
            "margin": null,
            "display": null,
            "left": null
          }
        },
        "d5871f655ecf4889a8ab219441725496": {
          "model_module": "@jupyter-widgets/controls",
          "model_name": "HBoxModel",
          "state": {
            "_view_name": "HBoxView",
            "_dom_classes": [],
            "_model_name": "HBoxModel",
            "_view_module": "@jupyter-widgets/controls",
            "_model_module_version": "1.5.0",
            "_view_count": null,
            "_view_module_version": "1.5.0",
            "box_style": "",
            "layout": "IPY_MODEL_f0356f289e9844da96e948b6fe35cb76",
            "_model_module": "@jupyter-widgets/controls",
            "children": [
              "IPY_MODEL_c948245365e840a29e3e651323a0d81b",
              "IPY_MODEL_1a1ece80aced4bc0bfad9325d774f25e"
            ]
          }
        },
        "f0356f289e9844da96e948b6fe35cb76": {
          "model_module": "@jupyter-widgets/base",
          "model_name": "LayoutModel",
          "state": {
            "_view_name": "LayoutView",
            "grid_template_rows": null,
            "right": null,
            "justify_content": null,
            "_view_module": "@jupyter-widgets/base",
            "overflow": null,
            "_model_module_version": "1.2.0",
            "_view_count": null,
            "flex_flow": null,
            "width": null,
            "min_width": null,
            "border": null,
            "align_items": null,
            "bottom": null,
            "_model_module": "@jupyter-widgets/base",
            "top": null,
            "grid_column": null,
            "overflow_y": null,
            "overflow_x": null,
            "grid_auto_flow": null,
            "grid_area": null,
            "grid_template_columns": null,
            "flex": null,
            "_model_name": "LayoutModel",
            "justify_items": null,
            "grid_row": null,
            "max_height": null,
            "align_content": null,
            "visibility": null,
            "align_self": null,
            "height": null,
            "min_height": null,
            "padding": null,
            "grid_auto_rows": null,
            "grid_gap": null,
            "max_width": null,
            "order": null,
            "_view_module_version": "1.2.0",
            "grid_template_areas": null,
            "object_position": null,
            "object_fit": null,
            "grid_auto_columns": null,
            "margin": null,
            "display": null,
            "left": null
          }
        },
        "c948245365e840a29e3e651323a0d81b": {
          "model_module": "@jupyter-widgets/controls",
          "model_name": "FloatProgressModel",
          "state": {
            "_view_name": "ProgressView",
            "style": "IPY_MODEL_d94971d6715949ed8b8d642c58a08e7b",
            "_dom_classes": [],
            "description": "100%",
            "_model_name": "FloatProgressModel",
            "bar_style": "success",
            "max": 739,
            "_view_module": "@jupyter-widgets/controls",
            "_model_module_version": "1.5.0",
            "value": 739,
            "_view_count": null,
            "_view_module_version": "1.5.0",
            "orientation": "horizontal",
            "min": 0,
            "description_tooltip": null,
            "_model_module": "@jupyter-widgets/controls",
            "layout": "IPY_MODEL_d0dace2798a64ba19edbf9aa874febd3"
          }
        },
        "1a1ece80aced4bc0bfad9325d774f25e": {
          "model_module": "@jupyter-widgets/controls",
          "model_name": "HTMLModel",
          "state": {
            "_view_name": "HTMLView",
            "style": "IPY_MODEL_f529cf1076e94f7fa57cdafef949a307",
            "_dom_classes": [],
            "description": "",
            "_model_name": "HTMLModel",
            "placeholder": "​",
            "_view_module": "@jupyter-widgets/controls",
            "_model_module_version": "1.5.0",
            "value": " 739/739 [00:03&lt;00:00, 213.27it/s]",
            "_view_count": null,
            "_view_module_version": "1.5.0",
            "description_tooltip": null,
            "_model_module": "@jupyter-widgets/controls",
            "layout": "IPY_MODEL_09fd40efd4d740f7a35c22856775d28d"
          }
        },
        "d94971d6715949ed8b8d642c58a08e7b": {
          "model_module": "@jupyter-widgets/controls",
          "model_name": "ProgressStyleModel",
          "state": {
            "_view_name": "StyleView",
            "_model_name": "ProgressStyleModel",
            "description_width": "initial",
            "_view_module": "@jupyter-widgets/base",
            "_model_module_version": "1.5.0",
            "_view_count": null,
            "_view_module_version": "1.2.0",
            "bar_color": null,
            "_model_module": "@jupyter-widgets/controls"
          }
        },
        "d0dace2798a64ba19edbf9aa874febd3": {
          "model_module": "@jupyter-widgets/base",
          "model_name": "LayoutModel",
          "state": {
            "_view_name": "LayoutView",
            "grid_template_rows": null,
            "right": null,
            "justify_content": null,
            "_view_module": "@jupyter-widgets/base",
            "overflow": null,
            "_model_module_version": "1.2.0",
            "_view_count": null,
            "flex_flow": null,
            "width": null,
            "min_width": null,
            "border": null,
            "align_items": null,
            "bottom": null,
            "_model_module": "@jupyter-widgets/base",
            "top": null,
            "grid_column": null,
            "overflow_y": null,
            "overflow_x": null,
            "grid_auto_flow": null,
            "grid_area": null,
            "grid_template_columns": null,
            "flex": null,
            "_model_name": "LayoutModel",
            "justify_items": null,
            "grid_row": null,
            "max_height": null,
            "align_content": null,
            "visibility": null,
            "align_self": null,
            "height": null,
            "min_height": null,
            "padding": null,
            "grid_auto_rows": null,
            "grid_gap": null,
            "max_width": null,
            "order": null,
            "_view_module_version": "1.2.0",
            "grid_template_areas": null,
            "object_position": null,
            "object_fit": null,
            "grid_auto_columns": null,
            "margin": null,
            "display": null,
            "left": null
          }
        },
        "f529cf1076e94f7fa57cdafef949a307": {
          "model_module": "@jupyter-widgets/controls",
          "model_name": "DescriptionStyleModel",
          "state": {
            "_view_name": "StyleView",
            "_model_name": "DescriptionStyleModel",
            "description_width": "",
            "_view_module": "@jupyter-widgets/base",
            "_model_module_version": "1.5.0",
            "_view_count": null,
            "_view_module_version": "1.2.0",
            "_model_module": "@jupyter-widgets/controls"
          }
        },
        "09fd40efd4d740f7a35c22856775d28d": {
          "model_module": "@jupyter-widgets/base",
          "model_name": "LayoutModel",
          "state": {
            "_view_name": "LayoutView",
            "grid_template_rows": null,
            "right": null,
            "justify_content": null,
            "_view_module": "@jupyter-widgets/base",
            "overflow": null,
            "_model_module_version": "1.2.0",
            "_view_count": null,
            "flex_flow": null,
            "width": null,
            "min_width": null,
            "border": null,
            "align_items": null,
            "bottom": null,
            "_model_module": "@jupyter-widgets/base",
            "top": null,
            "grid_column": null,
            "overflow_y": null,
            "overflow_x": null,
            "grid_auto_flow": null,
            "grid_area": null,
            "grid_template_columns": null,
            "flex": null,
            "_model_name": "LayoutModel",
            "justify_items": null,
            "grid_row": null,
            "max_height": null,
            "align_content": null,
            "visibility": null,
            "align_self": null,
            "height": null,
            "min_height": null,
            "padding": null,
            "grid_auto_rows": null,
            "grid_gap": null,
            "max_width": null,
            "order": null,
            "_view_module_version": "1.2.0",
            "grid_template_areas": null,
            "object_position": null,
            "object_fit": null,
            "grid_auto_columns": null,
            "margin": null,
            "display": null,
            "left": null
          }
        },
        "147b5631be06467d93e3f495ba15fe12": {
          "model_module": "@jupyter-widgets/controls",
          "model_name": "HBoxModel",
          "state": {
            "_view_name": "HBoxView",
            "_dom_classes": [],
            "_model_name": "HBoxModel",
            "_view_module": "@jupyter-widgets/controls",
            "_model_module_version": "1.5.0",
            "_view_count": null,
            "_view_module_version": "1.5.0",
            "box_style": "",
            "layout": "IPY_MODEL_8984755a7f5a4a4eba1be7846b2a0d9a",
            "_model_module": "@jupyter-widgets/controls",
            "children": [
              "IPY_MODEL_4ee9ab2dc59f478db5e7e47ed51f9e51",
              "IPY_MODEL_85b31ccee8004e12a2a07b3b06294a78"
            ]
          }
        },
        "8984755a7f5a4a4eba1be7846b2a0d9a": {
          "model_module": "@jupyter-widgets/base",
          "model_name": "LayoutModel",
          "state": {
            "_view_name": "LayoutView",
            "grid_template_rows": null,
            "right": null,
            "justify_content": null,
            "_view_module": "@jupyter-widgets/base",
            "overflow": null,
            "_model_module_version": "1.2.0",
            "_view_count": null,
            "flex_flow": null,
            "width": null,
            "min_width": null,
            "border": null,
            "align_items": null,
            "bottom": null,
            "_model_module": "@jupyter-widgets/base",
            "top": null,
            "grid_column": null,
            "overflow_y": null,
            "overflow_x": null,
            "grid_auto_flow": null,
            "grid_area": null,
            "grid_template_columns": null,
            "flex": null,
            "_model_name": "LayoutModel",
            "justify_items": null,
            "grid_row": null,
            "max_height": null,
            "align_content": null,
            "visibility": null,
            "align_self": null,
            "height": null,
            "min_height": null,
            "padding": null,
            "grid_auto_rows": null,
            "grid_gap": null,
            "max_width": null,
            "order": null,
            "_view_module_version": "1.2.0",
            "grid_template_areas": null,
            "object_position": null,
            "object_fit": null,
            "grid_auto_columns": null,
            "margin": null,
            "display": null,
            "left": null
          }
        },
        "4ee9ab2dc59f478db5e7e47ed51f9e51": {
          "model_module": "@jupyter-widgets/controls",
          "model_name": "FloatProgressModel",
          "state": {
            "_view_name": "ProgressView",
            "style": "IPY_MODEL_b9ab2b604e99481f9eb70449579490dd",
            "_dom_classes": [],
            "description": "100%",
            "_model_name": "FloatProgressModel",
            "bar_style": "success",
            "max": 739,
            "_view_module": "@jupyter-widgets/controls",
            "_model_module_version": "1.5.0",
            "value": 739,
            "_view_count": null,
            "_view_module_version": "1.5.0",
            "orientation": "horizontal",
            "min": 0,
            "description_tooltip": null,
            "_model_module": "@jupyter-widgets/controls",
            "layout": "IPY_MODEL_62ee1b62d8bc4b1980a25377e3bdf6bc"
          }
        },
        "85b31ccee8004e12a2a07b3b06294a78": {
          "model_module": "@jupyter-widgets/controls",
          "model_name": "HTMLModel",
          "state": {
            "_view_name": "HTMLView",
            "style": "IPY_MODEL_fcb7463268f34644b29e644c5381505e",
            "_dom_classes": [],
            "description": "",
            "_model_name": "HTMLModel",
            "placeholder": "​",
            "_view_module": "@jupyter-widgets/controls",
            "_model_module_version": "1.5.0",
            "value": " 739/739 [00:00&lt;00:00, 1137.27it/s]",
            "_view_count": null,
            "_view_module_version": "1.5.0",
            "description_tooltip": null,
            "_model_module": "@jupyter-widgets/controls",
            "layout": "IPY_MODEL_d7fabe47c4c747918f65ce5b56e3001a"
          }
        },
        "b9ab2b604e99481f9eb70449579490dd": {
          "model_module": "@jupyter-widgets/controls",
          "model_name": "ProgressStyleModel",
          "state": {
            "_view_name": "StyleView",
            "_model_name": "ProgressStyleModel",
            "description_width": "initial",
            "_view_module": "@jupyter-widgets/base",
            "_model_module_version": "1.5.0",
            "_view_count": null,
            "_view_module_version": "1.2.0",
            "bar_color": null,
            "_model_module": "@jupyter-widgets/controls"
          }
        },
        "62ee1b62d8bc4b1980a25377e3bdf6bc": {
          "model_module": "@jupyter-widgets/base",
          "model_name": "LayoutModel",
          "state": {
            "_view_name": "LayoutView",
            "grid_template_rows": null,
            "right": null,
            "justify_content": null,
            "_view_module": "@jupyter-widgets/base",
            "overflow": null,
            "_model_module_version": "1.2.0",
            "_view_count": null,
            "flex_flow": null,
            "width": null,
            "min_width": null,
            "border": null,
            "align_items": null,
            "bottom": null,
            "_model_module": "@jupyter-widgets/base",
            "top": null,
            "grid_column": null,
            "overflow_y": null,
            "overflow_x": null,
            "grid_auto_flow": null,
            "grid_area": null,
            "grid_template_columns": null,
            "flex": null,
            "_model_name": "LayoutModel",
            "justify_items": null,
            "grid_row": null,
            "max_height": null,
            "align_content": null,
            "visibility": null,
            "align_self": null,
            "height": null,
            "min_height": null,
            "padding": null,
            "grid_auto_rows": null,
            "grid_gap": null,
            "max_width": null,
            "order": null,
            "_view_module_version": "1.2.0",
            "grid_template_areas": null,
            "object_position": null,
            "object_fit": null,
            "grid_auto_columns": null,
            "margin": null,
            "display": null,
            "left": null
          }
        },
        "fcb7463268f34644b29e644c5381505e": {
          "model_module": "@jupyter-widgets/controls",
          "model_name": "DescriptionStyleModel",
          "state": {
            "_view_name": "StyleView",
            "_model_name": "DescriptionStyleModel",
            "description_width": "",
            "_view_module": "@jupyter-widgets/base",
            "_model_module_version": "1.5.0",
            "_view_count": null,
            "_view_module_version": "1.2.0",
            "_model_module": "@jupyter-widgets/controls"
          }
        },
        "d7fabe47c4c747918f65ce5b56e3001a": {
          "model_module": "@jupyter-widgets/base",
          "model_name": "LayoutModel",
          "state": {
            "_view_name": "LayoutView",
            "grid_template_rows": null,
            "right": null,
            "justify_content": null,
            "_view_module": "@jupyter-widgets/base",
            "overflow": null,
            "_model_module_version": "1.2.0",
            "_view_count": null,
            "flex_flow": null,
            "width": null,
            "min_width": null,
            "border": null,
            "align_items": null,
            "bottom": null,
            "_model_module": "@jupyter-widgets/base",
            "top": null,
            "grid_column": null,
            "overflow_y": null,
            "overflow_x": null,
            "grid_auto_flow": null,
            "grid_area": null,
            "grid_template_columns": null,
            "flex": null,
            "_model_name": "LayoutModel",
            "justify_items": null,
            "grid_row": null,
            "max_height": null,
            "align_content": null,
            "visibility": null,
            "align_self": null,
            "height": null,
            "min_height": null,
            "padding": null,
            "grid_auto_rows": null,
            "grid_gap": null,
            "max_width": null,
            "order": null,
            "_view_module_version": "1.2.0",
            "grid_template_areas": null,
            "object_position": null,
            "object_fit": null,
            "grid_auto_columns": null,
            "margin": null,
            "display": null,
            "left": null
          }
        },
        "448bc5a039384d33991fd7299c8889bc": {
          "model_module": "@jupyter-widgets/controls",
          "model_name": "HBoxModel",
          "state": {
            "_view_name": "HBoxView",
            "_dom_classes": [],
            "_model_name": "HBoxModel",
            "_view_module": "@jupyter-widgets/controls",
            "_model_module_version": "1.5.0",
            "_view_count": null,
            "_view_module_version": "1.5.0",
            "box_style": "",
            "layout": "IPY_MODEL_dd997710fea340369de477972bb9cdf1",
            "_model_module": "@jupyter-widgets/controls",
            "children": [
              "IPY_MODEL_317ae1fc20cf4284a053c91d4d887a4e",
              "IPY_MODEL_cffbd62db959424bb32aed2e2fc14f30"
            ]
          }
        },
        "dd997710fea340369de477972bb9cdf1": {
          "model_module": "@jupyter-widgets/base",
          "model_name": "LayoutModel",
          "state": {
            "_view_name": "LayoutView",
            "grid_template_rows": null,
            "right": null,
            "justify_content": null,
            "_view_module": "@jupyter-widgets/base",
            "overflow": null,
            "_model_module_version": "1.2.0",
            "_view_count": null,
            "flex_flow": null,
            "width": null,
            "min_width": null,
            "border": null,
            "align_items": null,
            "bottom": null,
            "_model_module": "@jupyter-widgets/base",
            "top": null,
            "grid_column": null,
            "overflow_y": null,
            "overflow_x": null,
            "grid_auto_flow": null,
            "grid_area": null,
            "grid_template_columns": null,
            "flex": null,
            "_model_name": "LayoutModel",
            "justify_items": null,
            "grid_row": null,
            "max_height": null,
            "align_content": null,
            "visibility": null,
            "align_self": null,
            "height": null,
            "min_height": null,
            "padding": null,
            "grid_auto_rows": null,
            "grid_gap": null,
            "max_width": null,
            "order": null,
            "_view_module_version": "1.2.0",
            "grid_template_areas": null,
            "object_position": null,
            "object_fit": null,
            "grid_auto_columns": null,
            "margin": null,
            "display": null,
            "left": null
          }
        },
        "317ae1fc20cf4284a053c91d4d887a4e": {
          "model_module": "@jupyter-widgets/controls",
          "model_name": "FloatProgressModel",
          "state": {
            "_view_name": "ProgressView",
            "style": "IPY_MODEL_c647eb7b324448889dd3035cbebb3240",
            "_dom_classes": [],
            "description": "100%",
            "_model_name": "FloatProgressModel",
            "bar_style": "success",
            "max": 739,
            "_view_module": "@jupyter-widgets/controls",
            "_model_module_version": "1.5.0",
            "value": 739,
            "_view_count": null,
            "_view_module_version": "1.5.0",
            "orientation": "horizontal",
            "min": 0,
            "description_tooltip": null,
            "_model_module": "@jupyter-widgets/controls",
            "layout": "IPY_MODEL_81d5c55b0bbd408a87c5825de06a03b6"
          }
        },
        "cffbd62db959424bb32aed2e2fc14f30": {
          "model_module": "@jupyter-widgets/controls",
          "model_name": "HTMLModel",
          "state": {
            "_view_name": "HTMLView",
            "style": "IPY_MODEL_f64e8935751c4df3993156c7960d8147",
            "_dom_classes": [],
            "description": "",
            "_model_name": "HTMLModel",
            "placeholder": "​",
            "_view_module": "@jupyter-widgets/controls",
            "_model_module_version": "1.5.0",
            "value": " 739/739 [00:00&lt;00:00, 1853.01it/s]",
            "_view_count": null,
            "_view_module_version": "1.5.0",
            "description_tooltip": null,
            "_model_module": "@jupyter-widgets/controls",
            "layout": "IPY_MODEL_d40e3108622d4d2c9ad2038226151a57"
          }
        },
        "c647eb7b324448889dd3035cbebb3240": {
          "model_module": "@jupyter-widgets/controls",
          "model_name": "ProgressStyleModel",
          "state": {
            "_view_name": "StyleView",
            "_model_name": "ProgressStyleModel",
            "description_width": "initial",
            "_view_module": "@jupyter-widgets/base",
            "_model_module_version": "1.5.0",
            "_view_count": null,
            "_view_module_version": "1.2.0",
            "bar_color": null,
            "_model_module": "@jupyter-widgets/controls"
          }
        },
        "81d5c55b0bbd408a87c5825de06a03b6": {
          "model_module": "@jupyter-widgets/base",
          "model_name": "LayoutModel",
          "state": {
            "_view_name": "LayoutView",
            "grid_template_rows": null,
            "right": null,
            "justify_content": null,
            "_view_module": "@jupyter-widgets/base",
            "overflow": null,
            "_model_module_version": "1.2.0",
            "_view_count": null,
            "flex_flow": null,
            "width": null,
            "min_width": null,
            "border": null,
            "align_items": null,
            "bottom": null,
            "_model_module": "@jupyter-widgets/base",
            "top": null,
            "grid_column": null,
            "overflow_y": null,
            "overflow_x": null,
            "grid_auto_flow": null,
            "grid_area": null,
            "grid_template_columns": null,
            "flex": null,
            "_model_name": "LayoutModel",
            "justify_items": null,
            "grid_row": null,
            "max_height": null,
            "align_content": null,
            "visibility": null,
            "align_self": null,
            "height": null,
            "min_height": null,
            "padding": null,
            "grid_auto_rows": null,
            "grid_gap": null,
            "max_width": null,
            "order": null,
            "_view_module_version": "1.2.0",
            "grid_template_areas": null,
            "object_position": null,
            "object_fit": null,
            "grid_auto_columns": null,
            "margin": null,
            "display": null,
            "left": null
          }
        },
        "f64e8935751c4df3993156c7960d8147": {
          "model_module": "@jupyter-widgets/controls",
          "model_name": "DescriptionStyleModel",
          "state": {
            "_view_name": "StyleView",
            "_model_name": "DescriptionStyleModel",
            "description_width": "",
            "_view_module": "@jupyter-widgets/base",
            "_model_module_version": "1.5.0",
            "_view_count": null,
            "_view_module_version": "1.2.0",
            "_model_module": "@jupyter-widgets/controls"
          }
        },
        "d40e3108622d4d2c9ad2038226151a57": {
          "model_module": "@jupyter-widgets/base",
          "model_name": "LayoutModel",
          "state": {
            "_view_name": "LayoutView",
            "grid_template_rows": null,
            "right": null,
            "justify_content": null,
            "_view_module": "@jupyter-widgets/base",
            "overflow": null,
            "_model_module_version": "1.2.0",
            "_view_count": null,
            "flex_flow": null,
            "width": null,
            "min_width": null,
            "border": null,
            "align_items": null,
            "bottom": null,
            "_model_module": "@jupyter-widgets/base",
            "top": null,
            "grid_column": null,
            "overflow_y": null,
            "overflow_x": null,
            "grid_auto_flow": null,
            "grid_area": null,
            "grid_template_columns": null,
            "flex": null,
            "_model_name": "LayoutModel",
            "justify_items": null,
            "grid_row": null,
            "max_height": null,
            "align_content": null,
            "visibility": null,
            "align_self": null,
            "height": null,
            "min_height": null,
            "padding": null,
            "grid_auto_rows": null,
            "grid_gap": null,
            "max_width": null,
            "order": null,
            "_view_module_version": "1.2.0",
            "grid_template_areas": null,
            "object_position": null,
            "object_fit": null,
            "grid_auto_columns": null,
            "margin": null,
            "display": null,
            "left": null
          }
        }
      }
    }
  },
  "cells": [
    {
      "cell_type": "markdown",
      "metadata": {
        "id": "vkHPORcLTyKv"
      },
      "source": [
        "# NOTE: The following processes were done on three pickle files: 'chairman.pickle' 'vicechair.pickle', 'governor.pickle'. For this file, we only depict processing on 'governor.pickle'"
      ]
    },
    {
      "cell_type": "markdown",
      "metadata": {
        "id": "m5lDIhl4rPUi"
      },
      "source": [
        "# Clean Text Data"
      ]
    },
    {
      "cell_type": "code",
      "metadata": {
        "id": "CRwqwfRgrPU6"
      },
      "source": [
        "import numpy as np\n",
        "import pandas as pd\n",
        "import datetime as dt\n",
        "import os\n",
        "import codecs\n",
        "import io\n",
        "from lxml import etree\n",
        "from dateutil.relativedelta import *\n",
        "\n",
        "import seaborn as sns; sns.set(style=\"darkgrid\")\n",
        "import matplotlib.pyplot as plt\n",
        "import matplotlib.ticker as ticker\n",
        "\n",
        "import re\n",
        "import pickle\n",
        "from tqdm.notebook import tqdm\n",
        "\n",
        "import nltk"
      ],
      "execution_count": 26,
      "outputs": []
    },
    {
      "cell_type": "code",
      "metadata": {
        "id": "cRW44fYkrPVG"
      },
      "source": [
        "# Set display preference\n",
        "plt.rcParams[\"figure.figsize\"] = (18,9)\n",
        "plt.style.use('fivethirtyeight')\n",
        "\n",
        "pd.options.display.max_rows = 20\n",
        "pd.options.display.max_seq_items = 50\n",
        "pd.set_option('display.max_colwidth', 200)"
      ],
      "execution_count": 27,
      "outputs": []
    },
    {
      "cell_type": "markdown",
      "metadata": {
        "id": "Mj2ff5djrPVZ"
      },
      "source": [
        "## Define Utility Functions"
      ]
    },
    {
      "cell_type": "code",
      "metadata": {
        "id": "WExOZP9ErPVa"
      },
      "source": [
        "# Functions for map() or apply()\n",
        "\n",
        "def get_word_count(x):\n",
        "    '''\n",
        "    Retun the number of words for the given text x.\n",
        "    '''\n",
        "    x = x.replace(\"[SECTION]\", \"\")\n",
        "    return len(re.findall(r'\\b([a-zA-Z]+n\\'t|[a-zA-Z]+\\'s|[a-zA-Z]+)\\b', x))"
      ],
      "execution_count": 28,
      "outputs": []
    },
    {
      "cell_type": "code",
      "metadata": {
        "id": "TNlibk40rPVi"
      },
      "source": [
        "def reorganize_df(df, doc_type):\n",
        "    '''\n",
        "    Reorganize the loaded dataframe, which has been obrained by FomcGetData for further processing\n",
        "        - Add type\n",
        "        - Add word count\n",
        "        - Copy contents to org_text\n",
        "        - Remove line breaks from contents in text\n",
        "        - Split contents by \"[SECTION]\" to list in text_sections\n",
        "    '''\n",
        "    \n",
        "    if doc_type in ('statement', 'minutes', 'presconf_script', 'meeting_script'):\n",
        "        is_meeting_doc = True\n",
        "    elif doc_type in ('speech', 'testimony'):\n",
        "        is_meeting_doc = False\n",
        "    else:\n",
        "        print(\"Invalid doc_type [{}] is given!\".format(doc_type))\n",
        "        return None\n",
        "    \n",
        "    dict = {\n",
        "        'type': doc_type,\n",
        "        'date': df['date'],\n",
        "        'title': df['title'],\n",
        "        'speaker': df['speaker'],\n",
        "        'word_count': df['contents'].map(get_word_count),\n",
        "        'text': df['contents'].map(lambda x: x.replace('\\n','').replace('\\r','').strip()),\n",
        "        'text_sections': df['contents'].map(lambda x: x.replace('\\n','').replace('\\r','').strip().split(\"[SECTION]\")),\n",
        "        'org_text': df['contents']\n",
        "    }\n",
        "\n",
        "    new_df = pd.DataFrame(dict)\n",
        "    print(\"Shape of the dataframe: \", new_df.shape)\n",
        "    return new_df"
      ],
      "execution_count": 29,
      "outputs": []
    },
    {
      "cell_type": "code",
      "metadata": {
        "id": "D4C8RscBrPVq"
      },
      "source": [
        "# Split functions to process long text in machine learning based NLP\n",
        "\n",
        "def get_split(text, split_len=200, overlap=50):\n",
        "    '''\n",
        "    Returns a list of split text of $split_len with overlapping of $overlap.\n",
        "    Each item of the list will have around split_len length of text.\n",
        "    '''\n",
        "    l_total = []\n",
        "    words = re.findall(r'\\b([a-zA-Z]+n\\'t|[a-zA-Z]+\\'s|[a-zA-Z]+)\\b', text)\n",
        "    \n",
        "    if len(words) < split_len:\n",
        "        n = 1\n",
        "    else:\n",
        "        n = (len(words) - overlap) // (split_len - overlap) + 1\n",
        "        \n",
        "    for i in range(n):\n",
        "        l_parcial = words[(split_len - overlap) * i: (split_len - overlap) * i + split_len]\n",
        "        l_total.append(\" \".join(l_parcial))\n",
        "    return l_total\n",
        "\n",
        "def get_split_df(df, split_len=200, overlap=50):\n",
        "    '''\n",
        "    Returns a dataframe which is an extension of an input dataframe.\n",
        "    Each row in the new dataframe has less than $split_len words in 'text'.\n",
        "    '''\n",
        "    split_data_list = []\n",
        "\n",
        "    for i, row in tqdm(df.iterrows(), total=df.shape[0]):\n",
        "        text_list = get_split(row[\"text\"], split_len, overlap)\n",
        "        for text in text_list:\n",
        "            row['text'] = text\n",
        "            row['word_count'] = len(re.findall(r'\\b([a-zA-Z]+n\\'t|[a-zA-Z]+\\'s|[a-zA-Z]+)\\b', text))\n",
        "            split_data_list.append(list(row))\n",
        "            \n",
        "    split_df = pd.DataFrame(split_data_list, columns=df.columns)\n",
        "    return split_df"
      ],
      "execution_count": 30,
      "outputs": []
    },
    {
      "cell_type": "code",
      "metadata": {
        "id": "wXpgoMsZrPVx"
      },
      "source": [
        "def remove_short_section(df, min_words=50):\n",
        "    '''\n",
        "    Using 'text_sections' of the given dataframe, remove sections having less than min_words.\n",
        "    It concatenates sections with a space, which exceeds min_words and update 'text'.\n",
        "    As a fallback, keep a text which concatinates sections having more than 20 words and use it\n",
        "     if there is no section having more than min_words.\n",
        "    If there is no sections having more than 20 words, remove the row.\n",
        "    '''\n",
        "    new_df = df.copy()\n",
        "    new_text_list = []\n",
        "    new_text_section_list = []\n",
        "    new_wc_list = []\n",
        "    \n",
        "    for i, row in tqdm(new_df.iterrows(), total=new_df.shape[0]):\n",
        "        new_text = \"\"\n",
        "        bk_text = \"\"\n",
        "        new_text_section = []\n",
        "        bk_text_section = []\n",
        "                \n",
        "        for section in row['text_sections']:\n",
        "            num_words = len(re.findall(r'\\b([a-zA-Z]+n\\'t|[a-zA-Z]+\\'s|[a-zA-Z]+)\\b', section))\n",
        "            if num_words > min_words:\n",
        "                new_text += \" \" + section\n",
        "                new_text_section.append(section)\n",
        "            elif num_words > 20:\n",
        "                bk_text += \" \" + section\n",
        "                bk_text_section.append(section)\n",
        "                \n",
        "        \n",
        "        new_text = new_text.strip()\n",
        "        bk_text = bk_text.strip()\n",
        "        \n",
        "        if len(new_text) > 0:\n",
        "            new_text_list.append(new_text)\n",
        "            new_text_section_list.append(new_text_section)\n",
        "        elif len(bk_text) > 0:\n",
        "            new_text_list.append(bk_text)\n",
        "            new_text_section_list.append(bk_text_section)\n",
        "        else:\n",
        "            new_text_list.append(\"\")\n",
        "            new_text_section_list.append(\"\")\n",
        "        \n",
        "        # Update the word count\n",
        "        new_wc_list.append(len(re.findall(r'\\b([a-zA-Z]+n\\'t|[a-zA-Z]+\\'s|[a-zA-Z]+)\\b', new_text_list[-1])))\n",
        "        \n",
        "    new_df['text'] = new_text_list\n",
        "    new_df['word_count'] = new_wc_list\n",
        "    \n",
        "    return new_df.loc[new_df['word_count'] > 0]\n",
        "\n",
        "def remove_short_nokeyword(df, keywords = ['rate', 'rates', 'federal fund', 'outlook', 'forecast', 'employ', 'economy'], min_times=2, min_words=50):\n",
        "    '''\n",
        "    Drop sections which do not have any one of keywords for min_times times\n",
        "     before applying remove_short_section()\n",
        "    '''\n",
        "    \n",
        "    new_df = df.copy()\n",
        "    new_section_list = []\n",
        "    \n",
        "    for i, row in tqdm(new_df.iterrows(), total=new_df.shape[0]):\n",
        "        new_section = []\n",
        "                \n",
        "        for section in row['text_sections']:\n",
        "            if len(set(section.split()).intersection(keywords)) >= min_times:\n",
        "                new_section.append(section)\n",
        "        \n",
        "        new_section_list.append(new_section)\n",
        "    \n",
        "    new_df['text_sections'] = new_section_list\n",
        "    \n",
        "    return remove_short_section(new_df, min_words=min_words)"
      ],
      "execution_count": 31,
      "outputs": []
    },
    {
      "cell_type": "markdown",
      "metadata": {
        "id": "4lPz_j_nrPV_"
      },
      "source": [
        "## Load Data"
      ]
    },
    {
      "cell_type": "markdown",
      "metadata": {
        "id": "XkyXwimcrPXs"
      },
      "source": [
        "### Speech"
      ]
    },
    {
      "cell_type": "code",
      "metadata": {
        "scrolled": true,
        "id": "E673DDEDrPXt",
        "colab": {
          "base_uri": "https://localhost:8080/",
          "height": 776
        },
        "outputId": "4c840784-aebb-4c9d-e88d-ae6c7e4b6266"
      },
      "source": [
        "# file = open('./data/governor.pickle', 'rb')\n",
        "\n",
        "file = open('./governor.pickle', 'rb')\n",
        "\n",
        "speech_df = pickle.load(file)\n",
        "file.close()\n",
        "\n",
        "print(speech_df.shape)\n",
        "speech_df"
      ],
      "execution_count": 32,
      "outputs": [
        {
          "output_type": "stream",
          "text": [
            "(749, 4)\n"
          ],
          "name": "stdout"
        },
        {
          "output_type": "execute_result",
          "data": {
            "text/html": [
              "<div>\n",
              "<style scoped>\n",
              "    .dataframe tbody tr th:only-of-type {\n",
              "        vertical-align: middle;\n",
              "    }\n",
              "\n",
              "    .dataframe tbody tr th {\n",
              "        vertical-align: top;\n",
              "    }\n",
              "\n",
              "    .dataframe thead th {\n",
              "        text-align: right;\n",
              "    }\n",
              "</style>\n",
              "<table border=\"1\" class=\"dataframe\">\n",
              "  <thead>\n",
              "    <tr style=\"text-align: right;\">\n",
              "      <th></th>\n",
              "      <th>date</th>\n",
              "      <th>contents</th>\n",
              "      <th>speaker</th>\n",
              "      <th>title</th>\n",
              "    </tr>\n",
              "  </thead>\n",
              "  <tbody>\n",
              "    <tr>\n",
              "      <th>1</th>\n",
              "      <td>1996-06-18</td>\n",
              "      <td>Remarks by Governor Edward W. Kelley, Jr.Developments in electronic money and bankingAt the CyberPayments 96 Conference, Dallas, TexasJune 18, 1996[SECTION][SECTION]It is a pleasure to be here thi...</td>\n",
              "      <td>Governor Edward W. Kelley, Jr.</td>\n",
              "      <td>Developments in electronic money and banking</td>\n",
              "    </tr>\n",
              "    <tr>\n",
              "      <th>2</th>\n",
              "      <td>1996-09-08</td>\n",
              "      <td>Monetary Policy Objectives and Strategy[SECTION]I want to share with you this evening my perspective on the challenges facing monetary policy in the current economic environment.  But I also want ...</td>\n",
              "      <td>Governor Laurence H. Meyer</td>\n",
              "      <td>Monetary policy objectives and strategy</td>\n",
              "    </tr>\n",
              "    <tr>\n",
              "      <th>4</th>\n",
              "      <td>1996-10-02</td>\n",
              "      <td>Remarks by Governor Lawrence B. LindseyAt the Small Business Development Conference, Richmond, VirginiaOctober 2, 1996[SECTION][SECTION]Small Business Is Big Business[SECTION]It is my pleasure to ...</td>\n",
              "      <td>Governor Lawrence B. Lindsey</td>\n",
              "      <td>Small business is big business</td>\n",
              "    </tr>\n",
              "    <tr>\n",
              "      <th>7</th>\n",
              "      <td>1996-10-09</td>\n",
              "      <td>Remarks by Governor Lawrence B. LindseyAt the Community Development Lending Conference, Dallas, TexasOctober 9, 1996[SECTION][SECTION]Here We Go Again?[SECTION]Thank you.  It is a pleasure to be h...</td>\n",
              "      <td>Governor Lawrence B. Lindsey</td>\n",
              "      <td>Here we go again?</td>\n",
              "    </tr>\n",
              "    <tr>\n",
              "      <th>8</th>\n",
              "      <td>1996-10-11</td>\n",
              "      <td>Remarks by Governor Lawrence B. LindseyAt the Atlantic Economic Society, Washington, D.C.October 11, 1996[SECTION][SECTION]How To Grow Faster[SECTION]It is my pleasure to be here today to discuss ...</td>\n",
              "      <td>Governor Lawrence B. Lindsey</td>\n",
              "      <td>How to grow faster</td>\n",
              "    </tr>\n",
              "    <tr>\n",
              "      <th>...</th>\n",
              "      <td>...</td>\n",
              "      <td>...</td>\n",
              "      <td>...</td>\n",
              "      <td>...</td>\n",
              "    </tr>\n",
              "    <tr>\n",
              "      <th>1476</th>\n",
              "      <td>2020-10-01</td>\n",
              "      <td>The Federal Reserve, the central bank of the United States, provides the nation with a safe, flexible, and stable monetary and financial system.[SECTION]Federal Open Market Committee[SECTION]Monet...</td>\n",
              "      <td>Governor Michelle W. Bowman</td>\n",
              "      <td>Mortgage Market Regulation and Access to Mortgage Credit</td>\n",
              "    </tr>\n",
              "    <tr>\n",
              "      <th>1477</th>\n",
              "      <td>2020-10-01</td>\n",
              "      <td>The Federal Reserve, the central bank of the United States, provides the nation with a safe, flexible, and stable monetary and financial system.[SECTION]Federal Open Market Committee[SECTION]Monet...</td>\n",
              "      <td>Governor Lael Brainard</td>\n",
              "      <td>Modernizing and Strengthening CRA Regulations: Hearing from Community Banks</td>\n",
              "    </tr>\n",
              "    <tr>\n",
              "      <th>1482</th>\n",
              "      <td>2020-10-15</td>\n",
              "      <td>The Federal Reserve, the central bank of the United States, provides the nation with a safe, flexible, and stable monetary and financial system.[SECTION]Federal Open Market Committee[SECTION]Monet...</td>\n",
              "      <td>Governor Lael Brainard</td>\n",
              "      <td>Modernizing and Strengthening CRA Regulations: A Conversation with Minority Depository Institutions</td>\n",
              "    </tr>\n",
              "    <tr>\n",
              "      <th>1485</th>\n",
              "      <td>2020-10-20</td>\n",
              "      <td>The Federal Reserve, the central bank of the United States, provides the nation with a safe, flexible, and stable monetary and financial system.[SECTION]Federal Open Market Committee[SECTION]Monet...</td>\n",
              "      <td>Governor Lael Brainard</td>\n",
              "      <td>Modernizing and Strengthening CRA Regulations: A Conversation with the Housing Community</td>\n",
              "    </tr>\n",
              "    <tr>\n",
              "      <th>1486</th>\n",
              "      <td>2020-10-21</td>\n",
              "      <td>The Federal Reserve, the central bank of the United States, provides the nation with a safe, flexible, and stable monetary and financial system.[SECTION]Federal Open Market Committee[SECTION]Monet...</td>\n",
              "      <td>Governor Lael Brainard</td>\n",
              "      <td>Achieving a Broad-Based and Inclusive Recovery</td>\n",
              "    </tr>\n",
              "  </tbody>\n",
              "</table>\n",
              "<p>749 rows × 4 columns</p>\n",
              "</div>"
            ],
            "text/plain": [
              "           date  ...                                                                                                title\n",
              "1    1996-06-18  ...                                                         Developments in electronic money and banking\n",
              "2    1996-09-08  ...                                                              Monetary policy objectives and strategy\n",
              "4    1996-10-02  ...                                                                       Small business is big business\n",
              "7    1996-10-09  ...                                                                                    Here we go again?\n",
              "8    1996-10-11  ...                                                                                   How to grow faster\n",
              "...         ...  ...                                                                                                  ...\n",
              "1476 2020-10-01  ...                                             Mortgage Market Regulation and Access to Mortgage Credit\n",
              "1477 2020-10-01  ...                          Modernizing and Strengthening CRA Regulations: Hearing from Community Banks\n",
              "1482 2020-10-15  ...  Modernizing and Strengthening CRA Regulations: A Conversation with Minority Depository Institutions\n",
              "1485 2020-10-20  ...             Modernizing and Strengthening CRA Regulations: A Conversation with the Housing Community\n",
              "1486 2020-10-21  ...                                                       Achieving a Broad-Based and Inclusive Recovery\n",
              "\n",
              "[749 rows x 4 columns]"
            ]
          },
          "metadata": {
            "tags": []
          },
          "execution_count": 32
        }
      ]
    },
    {
      "cell_type": "code",
      "metadata": {
        "id": "89kw8alArPXy",
        "colab": {
          "base_uri": "https://localhost:8080/"
        },
        "outputId": "99c03886-ea82-4182-c37a-1c9e45397a39"
      },
      "source": [
        "# Sample Contents - the 2nd last\n",
        "print(speech_df['contents'].iloc[-1])"
      ],
      "execution_count": 33,
      "outputs": [
        {
          "output_type": "stream",
          "text": [
            "The Federal Reserve, the central bank of the United States, provides the nation with a safe, flexible, and stable monetary and financial system.[SECTION]Federal Open Market Committee[SECTION]Monetary Policy Principles and Practice[SECTION]Policy Implementation[SECTION]Reports[SECTION]Review of Monetary Policy Strategy, Tools, and Communications[SECTION]Institution Supervision[SECTION]Reports[SECTION]Reporting Forms[SECTION]Supervision & Regulation Letters[SECTION]Banking Applications & Legal Developments[SECTION]Regulatory Resources[SECTION]Banking & Data Structure[SECTION]Regulations & Statutes[SECTION]Payment Policies[SECTION]Reserve Bank Payment Services & Data[SECTION]Financial Market Utilities & Infrastructures[SECTION]Research, Committees, and Forums[SECTION]Working Papers and Notes[SECTION]Models and Tools[SECTION]Bank Assets and Liabilities[SECTION]Bank Structure Data[SECTION]Business Finance[SECTION]Dealer Financing Terms[SECTION]Exchange Rates and International Data[SECTION]Financial Accounts[SECTION]Household Finance[SECTION]Industrial Activity[SECTION]Interest Rates[SECTION]Micro Data Reference Manual (MDRM)[SECTION]Money Stock and Reserve Balances[SECTION]Other[SECTION]Regulations[SECTION]Supervision & Enforcement[SECTION]Community Development[SECTION]Research & Analysis[SECTION]Consumer Resources[SECTION]October 21, 2020[SECTION]Governor Lael Brainard[SECTION]At the \"Post-COVIDâPolicy Challenges for the Global Economy\" Society of Professional Economists Annual Online Conference (via webcast)[SECTION]I want to express my appreciation to Kevin Daly for inviting me to participate in the Society of Professional Economists Annual Online Conference.1[SECTION]The U.S. economy saw a strong initial bounceback from the depths of the COVID-19 (coronavirus disease 2019) crisis, aided by significant targeted support. The recovery remains highly uncertain and highly unevenâwith certain sectors and groups experiencing substantial hardship. These disparities risk holding back the recovery. The Federal Reserve is committed to providing sustained accommodation to achieve a broad-based recovery. Further targeted fiscal support will be needed alongside accommodative monetary policy to turn this K-shaped recovery into a broad-based and inclusive recovery.[SECTION]K-Shaped Recovery?Targeted interventions, along with adaptations in the behavior of households and businesses, have enabled economic activity to recover. All told, after an unprecedented contraction in the first half of the year, U.S. gross domestic product appears likely to have reversed more than one-half of that decline in the third quarter.[SECTION]But within the overall improvement, some groups and sectors continue to see depressed employment, income, and revenues. Sustained disparities can hold back the recovery and lead to worse overall outcomes. Over the past month, the Federal Reserve Board has held three meetings with community groups, mission-oriented lenders, and representatives of frontline workers to hear about these disparities and their implications for the recovery.[SECTION]Overall, total consumer expenditures in the United States have recovered about three-fourths of their spring decline through August. Interest-sensitive sectors such as residential real estate and autos have rebounded stronglyâa welcome reminder of the power of monetary accommodation, especially when coupled with necessary fiscal support. Consumer spending on goods posted robust gains over the summer, and August levels exceeded those in January. In sharp contrast, however, consumer spending on services through August has recovered only about 60 percent of its spring decline and remains well below pre-COVID-19 levels.[SECTION]At the aggregate level, indicators of business investment, including shipments of capital goods, have been stronger than anticipated and point to a solid increase in equipment and investment spending in the third quarter. In contrast, investment on nonresidential structures remains depressed. Activity in some sectors remains substantially below pre-COVID-19 levels. For instance, airline passenger traffic is still 60 percent below its pre-pandemic level, contributing to the decline in aircraft orders this year, and hotel revenue per available room is only half the level of a year earlier.[SECTION]Our actions have helped promote the flow of credit to households and businesses. Borrowing costs are low along the yield curve, and liquidity is abundant. Amid historically low corporate bond yields, gross issuance of both investment- and speculative-grade corporate bonds was strong in the third quarter.[SECTION]In contrast to the favorable financing conditions for large businesses with access to capital markets, financing conditions for small businesses remain tight, with lower lending activity and signs of deteriorating loan performance. Small businesses tend to be concentrated in sectors that entail high direct contact, operate with relatively tight cash buffers, and rely on bank credit rather market-based finance. In the most recent Census Bureau Small Business Pulse Survey from early October, more than 30 percent of small businesses report having one month or less of cash on hand.[SECTION]The most recent Federal Reserve Small Business Lending Survey indicates that the Paycheck Protection Program (PPP) provided a critical lifeline for small and medium-sized businesses, but also that credit availability has otherwise tightened. Driven primarily by PPP-related loans, originations of new small business commercial and industrial loans in the second quarter of 2020 were more than nine times the size of originations in either the first quarter of 2020 or the second quarter of 2019.2 However, 44 percent of respondents, on net, indicate loan standards tightened over the second quarter. About 43 percent of respondents, on net, reported a deterioration in the credit quality of small business applicantsâthe largest decline since the inception of the survey and only the second time in which respondents of all bank sizes, on net, reported a decline.[SECTION]Minority small businesses have been particularly hard hit. According to recent research, between February and April, the economy saw a 41 percent decline in Black business owners and a 32 percent decline in Latinx business owners, compared with a 22 percent overall decline.3[SECTION]The labor market recovery to date has been more rapid than the initial pace following the Global Financial Crisis, but it has been uneven, and the easiest improvements are likely behind us. The pace of labor market improvement is decelerating at a time when employment is still far short of its maximum level. As of September, total nonfarm payroll employment had recovered about half of the jobs that were lost in March and April, and it remained about 11 million jobs below its February level. Private payroll gains in September were less than in July and August and came in far below the gains posted in May and June. Although the number of persons on temporary layoff has dropped back sharply from the highs in the spring to a level of 4.6 million in September, the number of permanent job losers has been rising since February and was at a level of 3.8 million in September. The job-finding rate for those who are permanently laid off is less than half the rate of those on temporary layoff, so the speed of labor market improvement is likely to decelerate further if these trends continue. Similarly, after seeing large declines during much of the summer, initial claims for unemployment insurance have crept up recently and remain elevated.[SECTION]The 1/2 percentage point decline in the unemployment rate in September to 7.9 percent was accompanied by a 0.3 percentage point decline in the labor force participation rate (LFPR).4 The recent decline in prime-age labor force participation has been due primarily to women. September marks the third consecutive monthly decline in the prime-age female LFPR since it bounced back in May and June. The decline in September, when many schools moved to virtual instruction, was especially pronounced for women ages 35 to 44. Indeed, the fraction of prime-age respondents to the Current Population Survey in September with children ages 6 to 17 who reported being out of the labor force for caregiving reasons was about 14 percent, up nearly 2 percentage points from a year earlier.5 If not soon reversed, the decline in the participation rate for primeâage women could have longer-term implications for household incomes and potential growth.[SECTION]The COVID-19 pandemic is exacerbating existing disparities in labor market outcomes. Although employment fell sharply for all groups between February and April, the decline was steeper for Black and Hispanic workers than for white and Asian workers, steeper for women than for men, and steeper for non-college-educated workers than for college graduates. At 12.1 percent, the unemployment rate for Black workers is more than 4 percentage points higher than the aggregate.6 Occupation and industry affiliation can explain only part of these COVID-19 labor market disparities.7[SECTION]In the years before the pandemic, I was encouraged to see prime-age individuals in all demographic groups drawn into the strong labor market, reversing the previous decline in participation and boosting the productive capacity of the economy.8 Persistent spells out of employment risk harming not only the prospects of these individuals, but also the economys potential growth rate.[SECTION]Regarding the other side of our dual mandate, the 12-month change in total personal consumption expenditures (PCE) prices picked up from 0.5 percent in April to 1.4 percent in August. Over the same period, core PCE price inflation picked up from 0.9 percent to 1.6 percent, supported lately by increases in prices of durable goods, including those for used cars and household appliances.9 While inflation may temporarily rise to or above 2 percent on a 12-month basis next year when the March and April price readings fall out of the 12-month calculation, my baseline forecast for inflation over the medium term is for it to remain short of 2 percent over the next few years.[SECTION]Support for a Broad-Based and Inclusive RecoveryRecent research indicates that the Coronavirus Aid, Relief, and Economic Security (CARES) Act played a significant role in supporting aggregate demand in the spring and summer. Enhanced unemployment benefits offset the lost income of many lower-wage and services workers, in some cases at greater-than-wage-replacement rates. Household spending stepped up in mid-April, coinciding with the first disbursement of stimulus payments to households and a ramp-up in the payout of unemployment benefits, and showed the most pronounced increases in the states that received more benefits.10[SECTION]The Survey of Consumer Finances indicates that cash-constrained households make up a significant fraction of the population. With unemployment and reduced hours likely to persist, many of these households are unlikely to be able to sustain recent levels of consumption without additional fiscal support as well as extended loan forbearance and eviction moratoriums. The financial security of displaced workers will depend importantly on whether unemployment benefits will be extended or supplementedâand if this will occur before any remaining savings accrued from the CARES Act funding run out.11[SECTION]Analogous questions arise with regard to the many hard-hit small businesses that were sustained early in the crisis by PPP loans, whose finances are becoming increasingly strained as revenue shortfalls persist. Similarly, the state and local governments that were able to weather tax-and-fee revenue shortfalls early in the crisis are likely to find it more difficult to sustain employment and spending levels the longer the pandemic persists in the absence of further fiscal support.[SECTION]Continued targeted support to replace lost incomes will be an important factor in determining the strength of the recovery. Apart from the course of the virus itself, the most significant downside risk to my outlook would be the failure of additional fiscal support to materialize. Too little support would lead to a slower and weaker recovery. Premature withdrawal of fiscal support would risk allowing recessionary dynamics to become entrenched, holding back employment and spending, increasing scarring from extended unemployment spells, leading more businesses to shutter, and ultimately harming productive capacity.[SECTION]The recovery will be broader based, stronger, and faster if monetary policy and fiscal policy both provide continued support to the economy. While monetary policy has helped keep credit available and borrowing costs low, fiscal policy has replaced lost incomes among households experiencing layoffs and businesses and states and localities suffering temporary drops in revenue.[SECTION]Monetary PolicyFinally, let me turn to how the new Statement on Longer-Run Goals and Monetary Policy Strategy will help monetary policy achieve its goals. The new statement on goals and strategy seeks to align monetary policy with key longer-run changes in the economy.12 The combination of a low neutral interest rate, underlying trend inflation below 2 percent, and the low responsiveness of inflation to resource slack embodied in a flat Phillips curve reduces the amount we can cut rates to buffer the economy, weakens inflation expectations, and could lead to worse employment and inflation outcomes over time. Consequently, it is important to strengthen our ability to achieve our employment and inflation goals by committing to a path of policy and lowering borrowing costs along the yield curve.[SECTION]The new statement on goals and strategy makes several key changes that should significantly improve the way the Committee conducts monetary policy. It eliminates the previous reference to a numerical estimate of the longer-run normal unemployment rate and instead defines the statutory maximum level of employment as a broad-based and inclusive goal. It commits that the Committee will aim to eliminate shortfalls of employment from its maximum level, rather than the previous reference to deviations, which could be in either direction. By eliminating the rationale for removing accommodation preemptively when the unemployment rate nears estimates of the natural rate in anticipation of high inflation that is unlikely to materialize, the new framework will avoid an unwarranted loss of opportunity for many Americans. The broad-based and inclusive definition of maximum employment calls for a more comprehensive assessment of areas of slack in the labor market, such as the disparities in employment outcomes I discussed earlier.[SECTION]To address the downward bias associated with the proximity of the policy rate to its lower bound, the new statement on goals and strategy adopts a flexible inflation averaging targeting (FAIT) strategy that seeks to achieve inflation that averages 2 percent over time. Under an inflation averaging strategy, appropriate monetary policy will aim to achieve inflation moderately above 2 percent for a time to compensate for shortfalls during a period when it has been running persistently below 2 percent.[SECTION]The forward guidance adopted by the Federal Open Market Committee (FOMC) in September gives concrete expression to the new strategy outlined in the new statement of goals and strategy. The forward guidance sets out outcome-based criteria that it expects to be achieved before the Committee lifts the policy rate from the lower bound. The labor market must reach \"levels consistent with the Committees assessments of maximum employment.\" Inflation would need to rise to 2 percent, and, in addition, the Committee would need to assess that inflation is on track to moderately exceed 2 percent for some time. The new FAIT framework is implemented not only through these outcome-based conditions for the liftoff of the policy rate, but also through the commitment that monetary policy will remain accommodative after liftoff for some time in order to achieve \"inflation moderately above 2 percent for some time so that inflation averages 2 percent over time,\" consistent with longer-term inflation expectations anchored at 2 percent. This implies there likely will be a period after liftoff when the policy rate remains below neutral to support the inflation makeup strategy and maximum employment. Research indicates that an important precondition for forward guidance to be effective is that the public understands and believes the policymakers commitment to making it happen.13 It will be important for the Committee to communicate clearly about our intentions and stay the course resolutely.[SECTION]How will we know if the new FAIT strategy is working? In addition to carefully monitoring labor market and inflation outcomes, it will be important to monitor a variety of indicators to see evidence that longer-term inflation expectations are moving sustainably to 2 percent. Inflation expectations are difficult to measure directly, so I generally consult a set of indicators to provide a more complete picture than any one measure on its own. Changes in expectations reported in surveys provide one important source of information. For instance, median 5- and 10-year PCE inflation expectations from the Survey of Professional Forecasters both dropped considerably in the second quarter and stand at 1.7 percent and 1.85 percent, respectively, for the third quarter, which are the second lowest, and lowest, readings, respectively, in each series. The median 5-to-10-year measure from the University of Michigan Surveys of Consumers moved down in October to 2.4 percent, toward the lower end of its range in recent years, which is almost 1/2 percentage point below its range before 2014.[SECTION]In addition to survey data that are available at a monthly or quarterly frequency, we monitor market-based measures of inflation expectations that are available daily. To use market-based measures of inflation compensation based on Treasury Inflation-Protected Securities (TIPS) or inflation swaps, the signal on inflation expectations must be separated from liquidity and term premiums through model-based methods.14 After making those adjustments, TIPS-based 5- and 10-year inflation expectations were 1.41 percent and 1.66 percent, respectively, on the final day of the third quarter, up from the lows experienced in March but well below their historical average.[SECTION]Finally, it is useful to consult measures of underlying trend inflation.15 A variety of estimates using time-series models suggest that underlying trend inflation may have moved down by as much as 1/2 percentage point over the past decade.16[SECTION]It is difficult to anticipate how long it will take to achieve the conditions set out in the forward guidance. The September Summary of Economic Projections shows that most participants do not currently anticipate that the policy rate will depart from its lower bound by the end of 2023. When it does lift off, the policy rate could be expected to change only gradually, reflecting the commitment to remain accommodative until inflation has moderately exceeded 2 percent for some time. Of course, the pace of the recovery will dictate the actual path of monetary policy, as implied by the conditional outcome-based forward guidance adopted in September. Indeed, a key benefit of outcome-based forward guidance is that it conveys the Committees monetary policy reaction function in a manner that is transparent and responsive to changes in economic conditions.17[SECTION]In conjunction with the forward guidance on the policy rate, the commitment to continue asset purchases at least at the current pace over coming months is also helping to achieve our goals by keeping borrowing costs low for households and businesses along the yield curve. As noted in the September FOMC minutes, in the months ahead, we will have the opportunity to deliberate and to clarify how the asset purchase program could best work in combination with forward guidance to support achievement of maximum employment and 2 percent average inflation.[SECTION]While the strong bounceback in activity from the initial devastation of COVID-19 was heartening, the recovery thus far has been highly uneven, and the path ahead is highly uncertain. By pledging to provide accommodation until shortfalls from maximum employment have been eliminated and average inflation of 2 percent has been achieved, the new forward guidance will ensure that the recovery reaches those who have been disproportionately affected, leading to a broad-based and strong recovery. Continued asset purchases will help achieve these outcomes by keeping borrowing costs low for households and businesses along the yield curve. This strong support from monetary policyâif combined with additional targeted fiscal supportâcan turn a K-shaped recovery into a broad-based and inclusive recovery that delivers better outcomes overall.[SECTION]Information about the review of monetary policy strategy, tools, and communications can also be found on the Boards website, at https://www.federalreserve.gov/monetarypolicy/review-of-monetary-policy-strategy-tools-and-communications.htm. In addition, see Lael Brainard (2020), \"Bringing the Statement on Longer-Run Goals and Monetary Policy Strategy into Alignment with Longer-Run Changes in the Economy,\" speech delivered at \"How the Fed Will Respond to the COVID-19 Recession in an Era of Low Rates and Low Inflation,\" an event hosted by the Hutchins Center on Fiscal and Monetary Policy at the Brookings Institution, Washington, September 1. Return to text[SECTION]Board of Governors of the Federal Reserve System[SECTION]20th Street and Constitution Avenue N.W., Washington, DC 20551\n"
          ],
          "name": "stdout"
        }
      ]
    },
    {
      "cell_type": "markdown",
      "metadata": {
        "id": "5Ydkl9_srPdA"
      },
      "source": [
        "## Speech DataFrame"
      ]
    },
    {
      "cell_type": "code",
      "metadata": {
        "scrolled": true,
        "id": "FUDpL64crPdA",
        "colab": {
          "base_uri": "https://localhost:8080/"
        },
        "outputId": "4279c9cb-f970-41e1-8d02-08460a46fe74"
      },
      "source": [
        "# Reorganize the dataframe\n",
        "proc_speech_df = reorganize_df(speech_df, 'speech')"
      ],
      "execution_count": 34,
      "outputs": [
        {
          "output_type": "stream",
          "text": [
            "Shape of the dataframe:  (749, 8)\n"
          ],
          "name": "stdout"
        }
      ]
    },
    {
      "cell_type": "code",
      "metadata": {
        "id": "I0AtEvSRrPdE"
      },
      "source": [
        "# Check the returned dataframe\n",
        "# Note that rate and decision are not applicable because speech is not at FOMC meeting\n",
        "proc_speech_df = proc_speech_df.reset_index(drop=True)"
      ],
      "execution_count": 35,
      "outputs": []
    },
    {
      "cell_type": "code",
      "metadata": {
        "scrolled": true,
        "id": "vaSuFaenrPdH",
        "colab": {
          "base_uri": "https://localhost:8080/",
          "height": 571
        },
        "outputId": "ea707cd7-6bd0-45b6-8d12-bba12502d57f"
      },
      "source": [
        "print(proc_speech_df.shape)\n",
        "sns.distplot(proc_speech_df[\"word_count\"].values, bins=50)"
      ],
      "execution_count": 36,
      "outputs": [
        {
          "output_type": "stream",
          "text": [
            "(749, 8)\n"
          ],
          "name": "stdout"
        },
        {
          "output_type": "stream",
          "text": [
            "/usr/local/lib/python3.6/dist-packages/seaborn/distributions.py:2551: FutureWarning: `distplot` is a deprecated function and will be removed in a future version. Please adapt your code to use either `displot` (a figure-level function with similar flexibility) or `histplot` (an axes-level function for histograms).\n",
            "  warnings.warn(msg, FutureWarning)\n"
          ],
          "name": "stderr"
        },
        {
          "output_type": "execute_result",
          "data": {
            "text/plain": [
              "<matplotlib.axes._subplots.AxesSubplot at 0x7f026a64acc0>"
            ]
          },
          "metadata": {
            "tags": []
          },
          "execution_count": 36
        },
        {
          "output_type": "display_data",
          "data": {
            "image/png": "[encoded data removed]",
            "text/plain": [
              "<Figure size 1296x648 with 1 Axes>"
            ]
          },
          "metadata": {
            "tags": []
          }
        }
      ]
    },
    {
      "cell_type": "code",
      "metadata": {
        "id": "-_6wKskGrPdM",
        "colab": {
          "base_uri": "https://localhost:8080/"
        },
        "outputId": "a8040f3e-1ba4-4afb-fa38-66c0029a0152"
      },
      "source": [
        "# Check records where speaker is null\n",
        "proc_speech_df['speaker'].isnull().sum()"
      ],
      "execution_count": 37,
      "outputs": [
        {
          "output_type": "execute_result",
          "data": {
            "text/plain": [
              "0"
            ]
          },
          "metadata": {
            "tags": []
          },
          "execution_count": 37
        }
      ]
    },
    {
      "cell_type": "code",
      "metadata": {
        "id": "ZJeYtPr1rPdP",
        "colab": {
          "base_uri": "https://localhost:8080/",
          "height": 1000,
          "referenced_widgets": [
            "bc200ad59f864598aba6ada285a1d24d",
            "e727dc61acac4c799a40d93afcd710f2",
            "8df2a5a327eb40f3bdd1bcb28d60e58d",
            "23a2821a3e704c129ca9db93eae032f3",
            "1d717102616744f98cc8aeaab9f3419f",
            "6aa45195c5e44fbf9b00f4179354ec5c",
            "7da64ba6f3414b639dc39e1bf77fe784",
            "750e2564922a4d7988341c39028ff94a"
          ]
        },
        "outputId": "08876b11-0666-4717-ab27-8339d23d9f5f"
      },
      "source": [
        "# Remove sections having less than 50 words because those are unlikely to contain meaningful sentences.\n",
        "proc_speech_df = remove_short_section(proc_speech_df, min_words=50)\n",
        "proc_speech_df\n"
      ],
      "execution_count": 38,
      "outputs": [
        {
          "output_type": "display_data",
          "data": {
            "application/vnd.jupyter.widget-view+json": {
              "model_id": "bc200ad59f864598aba6ada285a1d24d",
              "version_minor": 0,
              "version_major": 2
            },
            "text/plain": [
              "HBox(children=(FloatProgress(value=0.0, max=749.0), HTML(value='')))"
            ]
          },
          "metadata": {
            "tags": []
          }
        },
        {
          "output_type": "stream",
          "text": [
            "\n"
          ],
          "name": "stdout"
        },
        {
          "output_type": "execute_result",
          "data": {
            "text/html": [
              "<div>\n",
              "<style scoped>\n",
              "    .dataframe tbody tr th:only-of-type {\n",
              "        vertical-align: middle;\n",
              "    }\n",
              "\n",
              "    .dataframe tbody tr th {\n",
              "        vertical-align: top;\n",
              "    }\n",
              "\n",
              "    .dataframe thead th {\n",
              "        text-align: right;\n",
              "    }\n",
              "</style>\n",
              "<table border=\"1\" class=\"dataframe\">\n",
              "  <thead>\n",
              "    <tr style=\"text-align: right;\">\n",
              "      <th></th>\n",
              "      <th>type</th>\n",
              "      <th>date</th>\n",
              "      <th>title</th>\n",
              "      <th>speaker</th>\n",
              "      <th>word_count</th>\n",
              "      <th>text</th>\n",
              "      <th>text_sections</th>\n",
              "      <th>org_text</th>\n",
              "    </tr>\n",
              "  </thead>\n",
              "  <tbody>\n",
              "    <tr>\n",
              "      <th>0</th>\n",
              "      <td>speech</td>\n",
              "      <td>1996-06-18</td>\n",
              "      <td>Developments in electronic money and banking</td>\n",
              "      <td>Governor Edward W. Kelley, Jr.</td>\n",
              "      <td>2658</td>\n",
              "      <td>It is a pleasure to be here this afternoon to provide     the Federal Reserves perspective on recent developments in the     field of electronic money and banking.  To begin, let me remind     you...</td>\n",
              "      <td>[Remarks by Governor Edward W. Kelley, Jr.Developments in electronic money and bankingAt the CyberPayments 96 Conference, Dallas, TexasJune 18, 1996, , It is a pleasure to be here this afternoon t...</td>\n",
              "      <td>Remarks by Governor Edward W. Kelley, Jr.Developments in electronic money and bankingAt the CyberPayments 96 Conference, Dallas, TexasJune 18, 1996[SECTION][SECTION]It is a pleasure to be here thi...</td>\n",
              "    </tr>\n",
              "    <tr>\n",
              "      <th>1</th>\n",
              "      <td>speech</td>\n",
              "      <td>1996-09-08</td>\n",
              "      <td>Monetary policy objectives and strategy</td>\n",
              "      <td>Governor Laurence H. Meyer</td>\n",
              "      <td>2728</td>\n",
              "      <td>I want to share with you this evening my perspective on the challenges facing monetary policy in the current economic environment.  But I also want to emphasize the importance of setting monetary ...</td>\n",
              "      <td>[Monetary Policy Objectives and Strategy, I want to share with you this evening my perspective on the challenges facing monetary policy in the current economic environment.  But I also want to emp...</td>\n",
              "      <td>Monetary Policy Objectives and Strategy[SECTION]I want to share with you this evening my perspective on the challenges facing monetary policy in the current economic environment.  But I also want ...</td>\n",
              "    </tr>\n",
              "    <tr>\n",
              "      <th>2</th>\n",
              "      <td>speech</td>\n",
              "      <td>1996-10-02</td>\n",
              "      <td>Small business is big business</td>\n",
              "      <td>Governor Lawrence B. Lindsey</td>\n",
              "      <td>1999</td>\n",
              "      <td>A fair question might be, what is the nations central bank doing sponsoring aconference on small business?   Well, let me be clear about one thing, neither I nor mycolleagues from the Fed are goin...</td>\n",
              "      <td>[Remarks by Governor Lawrence B. LindseyAt the Small Business Development Conference, Richmond, VirginiaOctober 2, 1996, , Small Business Is Big Business, It is my pleasure to be here today at the...</td>\n",
              "      <td>Remarks by Governor Lawrence B. LindseyAt the Small Business Development Conference, Richmond, VirginiaOctober 2, 1996[SECTION][SECTION]Small Business Is Big Business[SECTION]It is my pleasure to ...</td>\n",
              "    </tr>\n",
              "    <tr>\n",
              "      <th>3</th>\n",
              "      <td>speech</td>\n",
              "      <td>1996-10-09</td>\n",
              "      <td>Here we go again?</td>\n",
              "      <td>Governor Lawrence B. Lindsey</td>\n",
              "      <td>3604</td>\n",
              "      <td>Thank you.  It is a pleasure to be here today to discuss some of the challenges that lie ahead in the areas of economic opportunity and community development.   Frankly its a pleasure to be anywhe...</td>\n",
              "      <td>[Remarks by Governor Lawrence B. LindseyAt the Community Development Lending Conference, Dallas, TexasOctober 9, 1996, , Here We Go Again?, Thank you.  It is a pleasure to be here today to discuss...</td>\n",
              "      <td>Remarks by Governor Lawrence B. LindseyAt the Community Development Lending Conference, Dallas, TexasOctober 9, 1996[SECTION][SECTION]Here We Go Again?[SECTION]Thank you.  It is a pleasure to be h...</td>\n",
              "    </tr>\n",
              "    <tr>\n",
              "      <th>4</th>\n",
              "      <td>speech</td>\n",
              "      <td>1996-10-11</td>\n",
              "      <td>How to grow faster</td>\n",
              "      <td>Governor Lawrence B. Lindsey</td>\n",
              "      <td>4381</td>\n",
              "      <td>I can well understand the interest in this issue.  Even though employment is high andinflation is low, the growth of real incomes for American workers has been virtually non-existent.   The level ...</td>\n",
              "      <td>[Remarks by Governor Lawrence B. LindseyAt the Atlantic Economic Society, Washington, D.C.October 11, 1996, , How To Grow Faster, It is my pleasure to be here today to discuss some of the most imp...</td>\n",
              "      <td>Remarks by Governor Lawrence B. LindseyAt the Atlantic Economic Society, Washington, D.C.October 11, 1996[SECTION][SECTION]How To Grow Faster[SECTION]It is my pleasure to be here today to discuss ...</td>\n",
              "    </tr>\n",
              "    <tr>\n",
              "      <th>...</th>\n",
              "      <td>...</td>\n",
              "      <td>...</td>\n",
              "      <td>...</td>\n",
              "      <td>...</td>\n",
              "      <td>...</td>\n",
              "      <td>...</td>\n",
              "      <td>...</td>\n",
              "      <td>...</td>\n",
              "    </tr>\n",
              "    <tr>\n",
              "      <th>744</th>\n",
              "      <td>speech</td>\n",
              "      <td>2020-10-01</td>\n",
              "      <td>Mortgage Market Regulation and Access to Mortgage Credit</td>\n",
              "      <td>Governor Michelle W. Bowman</td>\n",
              "      <td>917</td>\n",
              "      <td>Throughout the response to the pandemic, community bankers have continued to serve as the primary source of credit to small businesses and have continued to provide economic and financial support ...</td>\n",
              "      <td>[The Federal Reserve, the central bank of the United States, provides the nation with a safe, flexible, and stable monetary and financial system., Federal Open Market Committee, Monetary Policy Pr...</td>\n",
              "      <td>The Federal Reserve, the central bank of the United States, provides the nation with a safe, flexible, and stable monetary and financial system.[SECTION]Federal Open Market Committee[SECTION]Monet...</td>\n",
              "    </tr>\n",
              "    <tr>\n",
              "      <th>745</th>\n",
              "      <td>speech</td>\n",
              "      <td>2020-10-01</td>\n",
              "      <td>Modernizing and Strengthening CRA Regulations: Hearing from Community Banks</td>\n",
              "      <td>Governor Lael Brainard</td>\n",
              "      <td>1058</td>\n",
              "      <td>We recognize that community banks play a vital role in the communities you serve. Your insights into local conditions and your long-standing customer relationships afford you a deep understanding ...</td>\n",
              "      <td>[The Federal Reserve, the central bank of the United States, provides the nation with a safe, flexible, and stable monetary and financial system., Federal Open Market Committee, Monetary Policy Pr...</td>\n",
              "      <td>The Federal Reserve, the central bank of the United States, provides the nation with a safe, flexible, and stable monetary and financial system.[SECTION]Federal Open Market Committee[SECTION]Monet...</td>\n",
              "    </tr>\n",
              "    <tr>\n",
              "      <th>746</th>\n",
              "      <td>speech</td>\n",
              "      <td>2020-10-15</td>\n",
              "      <td>Modernizing and Strengthening CRA Regulations: A Conversation with Minority Depository Institutions</td>\n",
              "      <td>Governor Lael Brainard</td>\n",
              "      <td>2090</td>\n",
              "      <td>As mission-driven financial institutions with a focus on serving minority households and businesses, you see the significant racial disparities in our economy every day. Going into the crisis, Bla...</td>\n",
              "      <td>[The Federal Reserve, the central bank of the United States, provides the nation with a safe, flexible, and stable monetary and financial system., Federal Open Market Committee, Monetary Policy Pr...</td>\n",
              "      <td>The Federal Reserve, the central bank of the United States, provides the nation with a safe, flexible, and stable monetary and financial system.[SECTION]Federal Open Market Committee[SECTION]Monet...</td>\n",
              "    </tr>\n",
              "    <tr>\n",
              "      <th>747</th>\n",
              "      <td>speech</td>\n",
              "      <td>2020-10-20</td>\n",
              "      <td>Modernizing and Strengthening CRA Regulations: A Conversation with the Housing Community</td>\n",
              "      <td>Governor Lael Brainard</td>\n",
              "      <td>2005</td>\n",
              "      <td>I want to thank David Dworkin for inviting me to participate in this discussion. I am pleased to be with you to talk about Community Reinvestment Act (CRA) modernization and how this process can h...</td>\n",
              "      <td>[The Federal Reserve, the central bank of the United States, provides the nation with a safe, flexible, and stable monetary and financial system., Federal Open Market Committee, Monetary Policy Pr...</td>\n",
              "      <td>The Federal Reserve, the central bank of the United States, provides the nation with a safe, flexible, and stable monetary and financial system.[SECTION]Federal Open Market Committee[SECTION]Monet...</td>\n",
              "    </tr>\n",
              "    <tr>\n",
              "      <th>748</th>\n",
              "      <td>speech</td>\n",
              "      <td>2020-10-21</td>\n",
              "      <td>Achieving a Broad-Based and Inclusive Recovery</td>\n",
              "      <td>Governor Lael Brainard</td>\n",
              "      <td>2920</td>\n",
              "      <td>The U.S. economy saw a strong initial bounceback from the depths of the COVID-19 (coronavirus disease 2019) crisis, aided by significant targeted support. The recovery remains highly uncertain and...</td>\n",
              "      <td>[The Federal Reserve, the central bank of the United States, provides the nation with a safe, flexible, and stable monetary and financial system., Federal Open Market Committee, Monetary Policy Pr...</td>\n",
              "      <td>The Federal Reserve, the central bank of the United States, provides the nation with a safe, flexible, and stable monetary and financial system.[SECTION]Federal Open Market Committee[SECTION]Monet...</td>\n",
              "    </tr>\n",
              "  </tbody>\n",
              "</table>\n",
              "<p>739 rows × 8 columns</p>\n",
              "</div>"
            ],
            "text/plain": [
              "       type  ...                                                                                                                                                                                                 org_text\n",
              "0    speech  ...  Remarks by Governor Edward W. Kelley, Jr.Developments in electronic money and bankingAt the CyberPayments 96 Conference, Dallas, TexasJune 18, 1996[SECTION][SECTION]It is a pleasure to be here thi...\n",
              "1    speech  ...  Monetary Policy Objectives and Strategy[SECTION]I want to share with you this evening my perspective on the challenges facing monetary policy in the current economic environment.  But I also want ...\n",
              "2    speech  ...  Remarks by Governor Lawrence B. LindseyAt the Small Business Development Conference, Richmond, VirginiaOctober 2, 1996[SECTION][SECTION]Small Business Is Big Business[SECTION]It is my pleasure to ...\n",
              "3    speech  ...  Remarks by Governor Lawrence B. LindseyAt the Community Development Lending Conference, Dallas, TexasOctober 9, 1996[SECTION][SECTION]Here We Go Again?[SECTION]Thank you.  It is a pleasure to be h...\n",
              "4    speech  ...  Remarks by Governor Lawrence B. LindseyAt the Atlantic Economic Society, Washington, D.C.October 11, 1996[SECTION][SECTION]How To Grow Faster[SECTION]It is my pleasure to be here today to discuss ...\n",
              "..      ...  ...                                                                                                                                                                                                      ...\n",
              "744  speech  ...  The Federal Reserve, the central bank of the United States, provides the nation with a safe, flexible, and stable monetary and financial system.[SECTION]Federal Open Market Committee[SECTION]Monet...\n",
              "745  speech  ...  The Federal Reserve, the central bank of the United States, provides the nation with a safe, flexible, and stable monetary and financial system.[SECTION]Federal Open Market Committee[SECTION]Monet...\n",
              "746  speech  ...  The Federal Reserve, the central bank of the United States, provides the nation with a safe, flexible, and stable monetary and financial system.[SECTION]Federal Open Market Committee[SECTION]Monet...\n",
              "747  speech  ...  The Federal Reserve, the central bank of the United States, provides the nation with a safe, flexible, and stable monetary and financial system.[SECTION]Federal Open Market Committee[SECTION]Monet...\n",
              "748  speech  ...  The Federal Reserve, the central bank of the United States, provides the nation with a safe, flexible, and stable monetary and financial system.[SECTION]Federal Open Market Committee[SECTION]Monet...\n",
              "\n",
              "[739 rows x 8 columns]"
            ]
          },
          "metadata": {
            "tags": []
          },
          "execution_count": 38
        }
      ]
    },
    {
      "cell_type": "code",
      "metadata": {
        "id": "Uozl6ATX9Do7"
      },
      "source": [
        "speech_chair_df = proc_speech_df"
      ],
      "execution_count": 39,
      "outputs": []
    },
    {
      "cell_type": "markdown",
      "metadata": {
        "id": "VLUF4hfJrPdV"
      },
      "source": [
        "### Split contents to max 200 words"
      ]
    },
    {
      "cell_type": "code",
      "metadata": {
        "scrolled": true,
        "id": "CtEPvJiErPdW",
        "colab": {
          "base_uri": "https://localhost:8080/",
          "height": 0,
          "referenced_widgets": [
            "d5871f655ecf4889a8ab219441725496",
            "f0356f289e9844da96e948b6fe35cb76",
            "c948245365e840a29e3e651323a0d81b",
            "1a1ece80aced4bc0bfad9325d774f25e",
            "d94971d6715949ed8b8d642c58a08e7b",
            "d0dace2798a64ba19edbf9aa874febd3",
            "f529cf1076e94f7fa57cdafef949a307",
            "09fd40efd4d740f7a35c22856775d28d"
          ]
        },
        "outputId": "a25e1cbb-d9fe-4740-ab05-cdbb1611c60f"
      },
      "source": [
        "speech_split_df = get_split_df(speech_chair_df)\n",
        "speech_split_df.reset_index(drop=True, inplace=True)\n",
        "print(speech_split_df.shape)\n",
        "speech_split_df"
      ],
      "execution_count": 40,
      "outputs": [
        {
          "output_type": "display_data",
          "data": {
            "application/vnd.jupyter.widget-view+json": {
              "model_id": "d5871f655ecf4889a8ab219441725496",
              "version_minor": 0,
              "version_major": 2
            },
            "text/plain": [
              "HBox(children=(FloatProgress(value=0.0, max=739.0), HTML(value='')))"
            ]
          },
          "metadata": {
            "tags": []
          }
        },
        {
          "output_type": "stream",
          "text": [
            "\n",
            "(15408, 8)\n"
          ],
          "name": "stdout"
        },
        {
          "output_type": "execute_result",
          "data": {
            "text/html": [
              "<div>\n",
              "<style scoped>\n",
              "    .dataframe tbody tr th:only-of-type {\n",
              "        vertical-align: middle;\n",
              "    }\n",
              "\n",
              "    .dataframe tbody tr th {\n",
              "        vertical-align: top;\n",
              "    }\n",
              "\n",
              "    .dataframe thead th {\n",
              "        text-align: right;\n",
              "    }\n",
              "</style>\n",
              "<table border=\"1\" class=\"dataframe\">\n",
              "  <thead>\n",
              "    <tr style=\"text-align: right;\">\n",
              "      <th></th>\n",
              "      <th>type</th>\n",
              "      <th>date</th>\n",
              "      <th>title</th>\n",
              "      <th>speaker</th>\n",
              "      <th>word_count</th>\n",
              "      <th>text</th>\n",
              "      <th>text_sections</th>\n",
              "      <th>org_text</th>\n",
              "    </tr>\n",
              "  </thead>\n",
              "  <tbody>\n",
              "    <tr>\n",
              "      <th>0</th>\n",
              "      <td>speech</td>\n",
              "      <td>1996-06-18</td>\n",
              "      <td>Developments in electronic money and banking</td>\n",
              "      <td>Governor Edward W. Kelley, Jr.</td>\n",
              "      <td>200</td>\n",
              "      <td>It is a pleasure to be here this afternoon to provide the Federal Reserves perspective on recent developments in the field of electronic money and banking To begin let me remind you that progress ...</td>\n",
              "      <td>[Remarks by Governor Edward W. Kelley, Jr.Developments in electronic money and bankingAt the CyberPayments 96 Conference, Dallas, TexasJune 18, 1996, , It is a pleasure to be here this afternoon t...</td>\n",
              "      <td>Remarks by Governor Edward W. Kelley, Jr.Developments in electronic money and bankingAt the CyberPayments 96 Conference, Dallas, TexasJune 18, 1996[SECTION][SECTION]It is a pleasure to be here thi...</td>\n",
              "    </tr>\n",
              "    <tr>\n",
              "      <th>1</th>\n",
              "      <td>speech</td>\n",
              "      <td>1996-06-18</td>\n",
              "      <td>Developments in electronic money and banking</td>\n",
              "      <td>Governor Edward W. Kelley, Jr.</td>\n",
              "      <td>200</td>\n",
              "      <td>account for a very small fraction In contrast for the major money and securities markets in this country electronic payments are the rule rather than the exception Settlements for these markets ge...</td>\n",
              "      <td>[Remarks by Governor Edward W. Kelley, Jr.Developments in electronic money and bankingAt the CyberPayments 96 Conference, Dallas, TexasJune 18, 1996, , It is a pleasure to be here this afternoon t...</td>\n",
              "      <td>Remarks by Governor Edward W. Kelley, Jr.Developments in electronic money and bankingAt the CyberPayments 96 Conference, Dallas, TexasJune 18, 1996[SECTION][SECTION]It is a pleasure to be here thi...</td>\n",
              "    </tr>\n",
              "    <tr>\n",
              "      <th>2</th>\n",
              "      <td>speech</td>\n",
              "      <td>1996-06-18</td>\n",
              "      <td>Developments in electronic money and banking</td>\n",
              "      <td>Governor Edward W. Kelley, Jr.</td>\n",
              "      <td>200</td>\n",
              "      <td>and in the development of new home banking products If the past is any guide consumer acceptance and use of new payment and banking technologies will grow slowly and we can be certain that many of...</td>\n",
              "      <td>[Remarks by Governor Edward W. Kelley, Jr.Developments in electronic money and bankingAt the CyberPayments 96 Conference, Dallas, TexasJune 18, 1996, , It is a pleasure to be here this afternoon t...</td>\n",
              "      <td>Remarks by Governor Edward W. Kelley, Jr.Developments in electronic money and bankingAt the CyberPayments 96 Conference, Dallas, TexasJune 18, 1996[SECTION][SECTION]It is a pleasure to be here thi...</td>\n",
              "    </tr>\n",
              "    <tr>\n",
              "      <th>3</th>\n",
              "      <td>speech</td>\n",
              "      <td>1996-06-18</td>\n",
              "      <td>Developments in electronic money and banking</td>\n",
              "      <td>Governor Edward W. Kelley, Jr.</td>\n",
              "      <td>200</td>\n",
              "      <td>handed preemptive attempts at regulating these products and the competitive process before significant social risks have been demonstrated would likely handicap innovation for no compelling reason...</td>\n",
              "      <td>[Remarks by Governor Edward W. Kelley, Jr.Developments in electronic money and bankingAt the CyberPayments 96 Conference, Dallas, TexasJune 18, 1996, , It is a pleasure to be here this afternoon t...</td>\n",
              "      <td>Remarks by Governor Edward W. Kelley, Jr.Developments in electronic money and bankingAt the CyberPayments 96 Conference, Dallas, TexasJune 18, 1996[SECTION][SECTION]It is a pleasure to be here thi...</td>\n",
              "    </tr>\n",
              "    <tr>\n",
              "      <th>4</th>\n",
              "      <td>speech</td>\n",
              "      <td>1996-06-18</td>\n",
              "      <td>Developments in electronic money and banking</td>\n",
              "      <td>Governor Edward W. Kelley, Jr.</td>\n",
              "      <td>200</td>\n",
              "      <td>such as consumer privacy and industry competition the policy issues being raised in the current debate about electronic payments are the same as those analyzed in the by the national EFT Commissio...</td>\n",
              "      <td>[Remarks by Governor Edward W. Kelley, Jr.Developments in electronic money and bankingAt the CyberPayments 96 Conference, Dallas, TexasJune 18, 1996, , It is a pleasure to be here this afternoon t...</td>\n",
              "      <td>Remarks by Governor Edward W. Kelley, Jr.Developments in electronic money and bankingAt the CyberPayments 96 Conference, Dallas, TexasJune 18, 1996[SECTION][SECTION]It is a pleasure to be here thi...</td>\n",
              "    </tr>\n",
              "    <tr>\n",
              "      <th>...</th>\n",
              "      <td>...</td>\n",
              "      <td>...</td>\n",
              "      <td>...</td>\n",
              "      <td>...</td>\n",
              "      <td>...</td>\n",
              "      <td>...</td>\n",
              "      <td>...</td>\n",
              "      <td>...</td>\n",
              "    </tr>\n",
              "    <tr>\n",
              "      <th>15403</th>\n",
              "      <td>speech</td>\n",
              "      <td>2020-10-21</td>\n",
              "      <td>Achieving a Broad-Based and Inclusive Recovery</td>\n",
              "      <td>Governor Lael Brainard</td>\n",
              "      <td>200</td>\n",
              "      <td>Inflation expectations are difficult to measure directly so I generally consult a set of indicators to provide a more complete picture than any one measure on its own Changes in expectations repor...</td>\n",
              "      <td>[The Federal Reserve, the central bank of the United States, provides the nation with a safe, flexible, and stable monetary and financial system., Federal Open Market Committee, Monetary Policy Pr...</td>\n",
              "      <td>The Federal Reserve, the central bank of the United States, provides the nation with a safe, flexible, and stable monetary and financial system.[SECTION]Federal Open Market Committee[SECTION]Monet...</td>\n",
              "    </tr>\n",
              "    <tr>\n",
              "      <th>15404</th>\n",
              "      <td>speech</td>\n",
              "      <td>2020-10-21</td>\n",
              "      <td>Achieving a Broad-Based and Inclusive Recovery</td>\n",
              "      <td>Governor Lael Brainard</td>\n",
              "      <td>200</td>\n",
              "      <td>market based measures of inflation compensation based on Treasury Inflation Protected Securities TIPS or inflation swaps the signal on inflation expectations must be separated from liquidity and t...</td>\n",
              "      <td>[The Federal Reserve, the central bank of the United States, provides the nation with a safe, flexible, and stable monetary and financial system., Federal Open Market Committee, Monetary Policy Pr...</td>\n",
              "      <td>The Federal Reserve, the central bank of the United States, provides the nation with a safe, flexible, and stable monetary and financial system.[SECTION]Federal Open Market Committee[SECTION]Monet...</td>\n",
              "    </tr>\n",
              "    <tr>\n",
              "      <th>15405</th>\n",
              "      <td>speech</td>\n",
              "      <td>2020-10-21</td>\n",
              "      <td>Achieving a Broad-Based and Inclusive Recovery</td>\n",
              "      <td>Governor Lael Brainard</td>\n",
              "      <td>200</td>\n",
              "      <td>pace of the recovery will dictate the actual path of monetary policy as implied by the conditional outcome based forward guidance adopted in September Indeed a key benefit of outcome based forward...</td>\n",
              "      <td>[The Federal Reserve, the central bank of the United States, provides the nation with a safe, flexible, and stable monetary and financial system., Federal Open Market Committee, Monetary Policy Pr...</td>\n",
              "      <td>The Federal Reserve, the central bank of the United States, provides the nation with a safe, flexible, and stable monetary and financial system.[SECTION]Federal Open Market Committee[SECTION]Monet...</td>\n",
              "    </tr>\n",
              "    <tr>\n",
              "      <th>15406</th>\n",
              "      <td>speech</td>\n",
              "      <td>2020-10-21</td>\n",
              "      <td>Achieving a Broad-Based and Inclusive Recovery</td>\n",
              "      <td>Governor Lael Brainard</td>\n",
              "      <td>200</td>\n",
              "      <td>activity from the initial devastation of COVID was heartening the recovery thus far has been highly uneven and the path ahead is highly uncertain By pledging to provide accommodation until shortfa...</td>\n",
              "      <td>[The Federal Reserve, the central bank of the United States, provides the nation with a safe, flexible, and stable monetary and financial system., Federal Open Market Committee, Monetary Policy Pr...</td>\n",
              "      <td>The Federal Reserve, the central bank of the United States, provides the nation with a safe, flexible, and stable monetary and financial system.[SECTION]Federal Open Market Committee[SECTION]Monet...</td>\n",
              "    </tr>\n",
              "    <tr>\n",
              "      <th>15407</th>\n",
              "      <td>speech</td>\n",
              "      <td>2020-10-21</td>\n",
              "      <td>Achieving a Broad-Based and Inclusive Recovery</td>\n",
              "      <td>Governor Lael Brainard</td>\n",
              "      <td>70</td>\n",
              "      <td>and communications htm In addition see Lael Brainard Bringing the Statement on Longer Run Goals and Monetary Policy Strategy into Alignment with Longer Run Changes in the Economy speech delivered ...</td>\n",
              "      <td>[The Federal Reserve, the central bank of the United States, provides the nation with a safe, flexible, and stable monetary and financial system., Federal Open Market Committee, Monetary Policy Pr...</td>\n",
              "      <td>The Federal Reserve, the central bank of the United States, provides the nation with a safe, flexible, and stable monetary and financial system.[SECTION]Federal Open Market Committee[SECTION]Monet...</td>\n",
              "    </tr>\n",
              "  </tbody>\n",
              "</table>\n",
              "<p>15408 rows × 8 columns</p>\n",
              "</div>"
            ],
            "text/plain": [
              "         type  ...                                                                                                                                                                                                 org_text\n",
              "0      speech  ...  Remarks by Governor Edward W. Kelley, Jr.Developments in electronic money and bankingAt the CyberPayments 96 Conference, Dallas, TexasJune 18, 1996[SECTION][SECTION]It is a pleasure to be here thi...\n",
              "1      speech  ...  Remarks by Governor Edward W. Kelley, Jr.Developments in electronic money and bankingAt the CyberPayments 96 Conference, Dallas, TexasJune 18, 1996[SECTION][SECTION]It is a pleasure to be here thi...\n",
              "2      speech  ...  Remarks by Governor Edward W. Kelley, Jr.Developments in electronic money and bankingAt the CyberPayments 96 Conference, Dallas, TexasJune 18, 1996[SECTION][SECTION]It is a pleasure to be here thi...\n",
              "3      speech  ...  Remarks by Governor Edward W. Kelley, Jr.Developments in electronic money and bankingAt the CyberPayments 96 Conference, Dallas, TexasJune 18, 1996[SECTION][SECTION]It is a pleasure to be here thi...\n",
              "4      speech  ...  Remarks by Governor Edward W. Kelley, Jr.Developments in electronic money and bankingAt the CyberPayments 96 Conference, Dallas, TexasJune 18, 1996[SECTION][SECTION]It is a pleasure to be here thi...\n",
              "...       ...  ...                                                                                                                                                                                                      ...\n",
              "15403  speech  ...  The Federal Reserve, the central bank of the United States, provides the nation with a safe, flexible, and stable monetary and financial system.[SECTION]Federal Open Market Committee[SECTION]Monet...\n",
              "15404  speech  ...  The Federal Reserve, the central bank of the United States, provides the nation with a safe, flexible, and stable monetary and financial system.[SECTION]Federal Open Market Committee[SECTION]Monet...\n",
              "15405  speech  ...  The Federal Reserve, the central bank of the United States, provides the nation with a safe, flexible, and stable monetary and financial system.[SECTION]Federal Open Market Committee[SECTION]Monet...\n",
              "15406  speech  ...  The Federal Reserve, the central bank of the United States, provides the nation with a safe, flexible, and stable monetary and financial system.[SECTION]Federal Open Market Committee[SECTION]Monet...\n",
              "15407  speech  ...  The Federal Reserve, the central bank of the United States, provides the nation with a safe, flexible, and stable monetary and financial system.[SECTION]Federal Open Market Committee[SECTION]Monet...\n",
              "\n",
              "[15408 rows x 8 columns]"
            ]
          },
          "metadata": {
            "tags": []
          },
          "execution_count": 40
        }
      ]
    },
    {
      "cell_type": "markdown",
      "metadata": {
        "id": "3C6qR7DbrPdZ"
      },
      "source": [
        "### Filter out by keyword"
      ]
    },
    {
      "cell_type": "code",
      "metadata": {
        "id": "MGwkDrc5rPda",
        "colab": {
          "base_uri": "https://localhost:8080/",
          "height": 0,
          "referenced_widgets": [
            "147b5631be06467d93e3f495ba15fe12",
            "8984755a7f5a4a4eba1be7846b2a0d9a",
            "4ee9ab2dc59f478db5e7e47ed51f9e51",
            "85b31ccee8004e12a2a07b3b06294a78",
            "b9ab2b604e99481f9eb70449579490dd",
            "62ee1b62d8bc4b1980a25377e3bdf6bc",
            "fcb7463268f34644b29e644c5381505e",
            "d7fabe47c4c747918f65ce5b56e3001a",
            "448bc5a039384d33991fd7299c8889bc",
            "dd997710fea340369de477972bb9cdf1",
            "317ae1fc20cf4284a053c91d4d887a4e",
            "cffbd62db959424bb32aed2e2fc14f30",
            "c647eb7b324448889dd3035cbebb3240",
            "81d5c55b0bbd408a87c5825de06a03b6",
            "f64e8935751c4df3993156c7960d8147",
            "d40e3108622d4d2c9ad2038226151a57"
          ]
        },
        "outputId": "00ca661b-5f1a-475b-e21e-beab47b42523"
      },
      "source": [
        "# Keep sections having keywords and long enough\n",
        "speech_keyword_df = remove_short_nokeyword(speech_chair_df)\n",
        "speech_keyword_df.reset_index(drop=True, inplace=True)\n",
        "print(speech_keyword_df.shape)\n",
        "speech_keyword_df"
      ],
      "execution_count": 41,
      "outputs": [
        {
          "output_type": "display_data",
          "data": {
            "application/vnd.jupyter.widget-view+json": {
              "model_id": "147b5631be06467d93e3f495ba15fe12",
              "version_minor": 0,
              "version_major": 2
            },
            "text/plain": [
              "HBox(children=(FloatProgress(value=0.0, max=739.0), HTML(value='')))"
            ]
          },
          "metadata": {
            "tags": []
          }
        },
        {
          "output_type": "stream",
          "text": [
            "\n"
          ],
          "name": "stdout"
        },
        {
          "output_type": "display_data",
          "data": {
            "application/vnd.jupyter.widget-view+json": {
              "model_id": "448bc5a039384d33991fd7299c8889bc",
              "version_minor": 0,
              "version_major": 2
            },
            "text/plain": [
              "HBox(children=(FloatProgress(value=0.0, max=739.0), HTML(value='')))"
            ]
          },
          "metadata": {
            "tags": []
          }
        },
        {
          "output_type": "stream",
          "text": [
            "\n",
            "(363, 8)\n"
          ],
          "name": "stdout"
        },
        {
          "output_type": "execute_result",
          "data": {
            "text/html": [
              "<div>\n",
              "<style scoped>\n",
              "    .dataframe tbody tr th:only-of-type {\n",
              "        vertical-align: middle;\n",
              "    }\n",
              "\n",
              "    .dataframe tbody tr th {\n",
              "        vertical-align: top;\n",
              "    }\n",
              "\n",
              "    .dataframe thead th {\n",
              "        text-align: right;\n",
              "    }\n",
              "</style>\n",
              "<table border=\"1\" class=\"dataframe\">\n",
              "  <thead>\n",
              "    <tr style=\"text-align: right;\">\n",
              "      <th></th>\n",
              "      <th>type</th>\n",
              "      <th>date</th>\n",
              "      <th>title</th>\n",
              "      <th>speaker</th>\n",
              "      <th>word_count</th>\n",
              "      <th>text</th>\n",
              "      <th>text_sections</th>\n",
              "      <th>org_text</th>\n",
              "    </tr>\n",
              "  </thead>\n",
              "  <tbody>\n",
              "    <tr>\n",
              "      <th>0</th>\n",
              "      <td>speech</td>\n",
              "      <td>1996-09-08</td>\n",
              "      <td>Monetary policy objectives and strategy</td>\n",
              "      <td>Governor Laurence H. Meyer</td>\n",
              "      <td>896</td>\n",
              "      <td>Economic theory, in the form of the long-run neutrality of money, tells us that monetary policy cannot affect the level or growth rate of output in the long run.  So dont saddle monetary policy wi...</td>\n",
              "      <td>[Economic theory, in the form of the long-run neutrality of money, tells us that monetary policy cannot affect the level or growth rate of output in the long run.  So dont saddle monetary policy w...</td>\n",
              "      <td>Monetary Policy Objectives and Strategy[SECTION]I want to share with you this evening my perspective on the challenges facing monetary policy in the current economic environment.  But I also want ...</td>\n",
              "    </tr>\n",
              "    <tr>\n",
              "      <th>1</th>\n",
              "      <td>speech</td>\n",
              "      <td>1996-10-02</td>\n",
              "      <td>Small business is big business</td>\n",
              "      <td>Governor Lawrence B. Lindsey</td>\n",
              "      <td>470</td>\n",
              "      <td>But, even those businesses which do not become industrial behemoths still have a vitalrole to play.  Small businesses build our homes and unclog the drains when they get full, theymonitor our heal...</td>\n",
              "      <td>[But, even those businesses which do not become industrial behemoths still have a vitalrole to play.  Small businesses build our homes and unclog the drains when they get full, theymonitor our hea...</td>\n",
              "      <td>Remarks by Governor Lawrence B. LindseyAt the Small Business Development Conference, Richmond, VirginiaOctober 2, 1996[SECTION][SECTION]Small Business Is Big Business[SECTION]It is my pleasure to ...</td>\n",
              "    </tr>\n",
              "    <tr>\n",
              "      <th>2</th>\n",
              "      <td>speech</td>\n",
              "      <td>1996-10-09</td>\n",
              "      <td>Here we go again?</td>\n",
              "      <td>Governor Lawrence B. Lindsey</td>\n",
              "      <td>470</td>\n",
              "      <td>Without any question the most important economic development has been a decline in the underlying rate of inflation and the consequent decline in medium- and long-term interest rates.  Lets do the...</td>\n",
              "      <td>[Without any question the most important economic development has been a decline in the underlying rate of inflation and the consequent decline in medium- and long-term interest rates.  Lets do th...</td>\n",
              "      <td>Remarks by Governor Lawrence B. LindseyAt the Community Development Lending Conference, Dallas, TexasOctober 9, 1996[SECTION][SECTION]Here We Go Again?[SECTION]Thank you.  It is a pleasure to be h...</td>\n",
              "    </tr>\n",
              "    <tr>\n",
              "      <th>3</th>\n",
              "      <td>speech</td>\n",
              "      <td>1996-10-11</td>\n",
              "      <td>How to grow faster</td>\n",
              "      <td>Governor Lawrence B. Lindsey</td>\n",
              "      <td>544</td>\n",
              "      <td>There is, however, one option that from time immemorial always seems to find its wayinto the political discourse: print money.   This year we have frequently heard from variousquarters that it is ...</td>\n",
              "      <td>[There is, however, one option that from time immemorial always seems to find its wayinto the political discourse: print money.   This year we have frequently heard from variousquarters that it is...</td>\n",
              "      <td>Remarks by Governor Lawrence B. LindseyAt the Atlantic Economic Society, Washington, D.C.October 11, 1996[SECTION][SECTION]How To Grow Faster[SECTION]It is my pleasure to be here today to discuss ...</td>\n",
              "    </tr>\n",
              "    <tr>\n",
              "      <th>4</th>\n",
              "      <td>speech</td>\n",
              "      <td>1997-01-05</td>\n",
              "      <td>The role of structural macroeconomic models</td>\n",
              "      <td>Governor Laurence H. Meyer</td>\n",
              "      <td>1230</td>\n",
              "      <td>There are two important differences from the private sector use of models for forecasting, at least based on my experience at LHM&amp;A.  First, the staff is not truly making a forecast of economic ac...</td>\n",
              "      <td>[There are two important differences from the private sector use of models for forecasting, at least based on my experience at LHM&amp;A.  First, the staff is not truly making a forecast of economic a...</td>\n",
              "      <td>[SECTION]The Role for Structural Macroeconomic Models[SECTION]I am in the middle of my third interesting and active encounter with the development and/or use of macroeconometric models for forecas...</td>\n",
              "    </tr>\n",
              "    <tr>\n",
              "      <th>...</th>\n",
              "      <td>...</td>\n",
              "      <td>...</td>\n",
              "      <td>...</td>\n",
              "      <td>...</td>\n",
              "      <td>...</td>\n",
              "      <td>...</td>\n",
              "      <td>...</td>\n",
              "      <td>...</td>\n",
              "    </tr>\n",
              "    <tr>\n",
              "      <th>358</th>\n",
              "      <td>speech</td>\n",
              "      <td>2020-01-16</td>\n",
              "      <td>The Outlook for Housing</td>\n",
              "      <td>Governor Michelle W. Bowman</td>\n",
              "      <td>675</td>\n",
              "      <td>Few sectors are as central to the success of our economy and the lives of American families as housing. If we include the amount families spend on shelter each month as well as the construction of...</td>\n",
              "      <td>[Few sectors are as central to the success of our economy and the lives of American families as housing. If we include the amount families spend on shelter each month as well as the construction o...</td>\n",
              "      <td>The Federal Reserve, the central bank of the United States, provides the nation with a safe, flexible, and stable monetary and financial system.[SECTION]Federal Open Market Committee[SECTION]Monet...</td>\n",
              "    </tr>\n",
              "    <tr>\n",
              "      <th>359</th>\n",
              "      <td>speech</td>\n",
              "      <td>2020-02-10</td>\n",
              "      <td>Empowering Community Banks</td>\n",
              "      <td>Governor Michelle W. Bowman</td>\n",
              "      <td>138</td>\n",
              "      <td>My colleagues and I on the Federal Open Market Committee had our most recent meeting about two weeks ago, when we decided to keep our target range for the federal funds rate unchanged at 1-1/2 to ...</td>\n",
              "      <td>[My colleagues and I on the Federal Open Market Committee had our most recent meeting about two weeks ago, when we decided to keep our target range for the federal funds rate unchanged at 1-1/2 to...</td>\n",
              "      <td>The Federal Reserve, the central bank of the United States, provides the nation with a safe, flexible, and stable monetary and financial system.[SECTION]Federal Open Market Committee[SECTION]Monet...</td>\n",
              "    </tr>\n",
              "    <tr>\n",
              "      <th>360</th>\n",
              "      <td>speech</td>\n",
              "      <td>2020-02-21</td>\n",
              "      <td>Monetary Policy Strategies and Tools When Inflation and Interest Rates Are Low</td>\n",
              "      <td>Governor Lael Brainard</td>\n",
              "      <td>675</td>\n",
              "      <td>Looking AheadThe current generation of central bankers faces a different core challenge than the last generation, with substantially smaller scope for cutting interest rates to buffer the economy ...</td>\n",
              "      <td>[Looking AheadThe current generation of central bankers faces a different core challenge than the last generation, with substantially smaller scope for cutting interest rates to buffer the economy...</td>\n",
              "      <td>The Federal Reserve, the central bank of the United States, provides the nation with a safe, flexible, and stable monetary and financial system.[SECTION]Federal Open Market Committee[SECTION]Monet...</td>\n",
              "    </tr>\n",
              "    <tr>\n",
              "      <th>361</th>\n",
              "      <td>speech</td>\n",
              "      <td>2020-07-14</td>\n",
              "      <td>Navigating Monetary Policy through the Fog of COVID</td>\n",
              "      <td>Governor Lael Brainard</td>\n",
              "      <td>395</td>\n",
              "      <td>Finally, in keeping with the global nature of the pandemic, foreign developments could impinge on the U.S. recovery. The International Monetary Fund estimates that real global gross domestic produ...</td>\n",
              "      <td>[Finally, in keeping with the global nature of the pandemic, foreign developments could impinge on the U.S. recovery. The International Monetary Fund estimates that real global gross domestic prod...</td>\n",
              "      <td>The Federal Reserve, the central bank of the United States, provides the nation with a safe, flexible, and stable monetary and financial system.[SECTION]Federal Open Market Committee[SECTION]Monet...</td>\n",
              "    </tr>\n",
              "    <tr>\n",
              "      <th>362</th>\n",
              "      <td>speech</td>\n",
              "      <td>2020-09-01</td>\n",
              "      <td>Bringing the Statement on Longer-Run Goals and Monetary Policy Strategy into Alignment with Longer-Run Changes in the Economy</td>\n",
              "      <td>Governor Lael Brainard</td>\n",
              "      <td>496</td>\n",
              "      <td>Key Longer-Run Changes in the EconomyThree related features of the economys new normal called for the reassessment of the Committees longer-run goals and strategy.2 First, the equilibrium interest...</td>\n",
              "      <td>[Key Longer-Run Changes in the EconomyThree related features of the economys new normal called for the reassessment of the Committees longer-run goals and strategy.2 First, the equilibrium interes...</td>\n",
              "      <td>The Federal Reserve, the central bank of the United States, provides the nation with a safe, flexible, and stable monetary and financial system.[SECTION]Federal Open Market Committee[SECTION]Monet...</td>\n",
              "    </tr>\n",
              "  </tbody>\n",
              "</table>\n",
              "<p>363 rows × 8 columns</p>\n",
              "</div>"
            ],
            "text/plain": [
              "       type  ...                                                                                                                                                                                                 org_text\n",
              "0    speech  ...  Monetary Policy Objectives and Strategy[SECTION]I want to share with you this evening my perspective on the challenges facing monetary policy in the current economic environment.  But I also want ...\n",
              "1    speech  ...  Remarks by Governor Lawrence B. LindseyAt the Small Business Development Conference, Richmond, VirginiaOctober 2, 1996[SECTION][SECTION]Small Business Is Big Business[SECTION]It is my pleasure to ...\n",
              "2    speech  ...  Remarks by Governor Lawrence B. LindseyAt the Community Development Lending Conference, Dallas, TexasOctober 9, 1996[SECTION][SECTION]Here We Go Again?[SECTION]Thank you.  It is a pleasure to be h...\n",
              "3    speech  ...  Remarks by Governor Lawrence B. LindseyAt the Atlantic Economic Society, Washington, D.C.October 11, 1996[SECTION][SECTION]How To Grow Faster[SECTION]It is my pleasure to be here today to discuss ...\n",
              "4    speech  ...  [SECTION]The Role for Structural Macroeconomic Models[SECTION]I am in the middle of my third interesting and active encounter with the development and/or use of macroeconometric models for forecas...\n",
              "..      ...  ...                                                                                                                                                                                                      ...\n",
              "358  speech  ...  The Federal Reserve, the central bank of the United States, provides the nation with a safe, flexible, and stable monetary and financial system.[SECTION]Federal Open Market Committee[SECTION]Monet...\n",
              "359  speech  ...  The Federal Reserve, the central bank of the United States, provides the nation with a safe, flexible, and stable monetary and financial system.[SECTION]Federal Open Market Committee[SECTION]Monet...\n",
              "360  speech  ...  The Federal Reserve, the central bank of the United States, provides the nation with a safe, flexible, and stable monetary and financial system.[SECTION]Federal Open Market Committee[SECTION]Monet...\n",
              "361  speech  ...  The Federal Reserve, the central bank of the United States, provides the nation with a safe, flexible, and stable monetary and financial system.[SECTION]Federal Open Market Committee[SECTION]Monet...\n",
              "362  speech  ...  The Federal Reserve, the central bank of the United States, provides the nation with a safe, flexible, and stable monetary and financial system.[SECTION]Federal Open Market Committee[SECTION]Monet...\n",
              "\n",
              "[363 rows x 8 columns]"
            ]
          },
          "metadata": {
            "tags": []
          },
          "execution_count": 41
        }
      ]
    },
    {
      "cell_type": "code",
      "metadata": {
        "id": "o1qbcbjkrPdd"
      },
      "source": [
        "# Drop text_sections\n",
        "speech_chair_df.drop(columns=['text_sections', 'org_text'], inplace=True)\n",
        "speech_split_df.drop(columns=['text_sections', 'org_text'], inplace=True)\n",
        "speech_keyword_df.drop(columns=['text_sections', 'org_text'], inplace=True)"
      ],
      "execution_count": 42,
      "outputs": []
    },
    {
      "cell_type": "code",
      "metadata": {
        "id": "mJSMIeMUAaqY",
        "colab": {
          "base_uri": "https://localhost:8080/",
          "height": 0
        },
        "outputId": "2cd47e94-2b4f-452d-a172-28b33d2ba466"
      },
      "source": [
        "speech_chair_df['text'][0]"
      ],
      "execution_count": 43,
      "outputs": [
        {
          "output_type": "execute_result",
          "data": {
            "application/vnd.google.colaboratory.intrinsic+json": {
              "type": "string"
            },
            "text/plain": [
              "'It is a pleasure to be here this afternoon to provide     the Federal Reserves perspective on recent developments in the     field of electronic money and banking.  To begin, let me remind     you that progress in the retail electronic banking sector so far     has been slow in the United States.  Twenty years ago, a national     Commission was appointed by the Congress to study many of the     issues surrounding emerging electronic funds transfer systems,     particularly as they were seen to affect consumers and the     general public.  The assumption at that time was that the use of     currency and checks in the United States would rapidly disappear.     Indeed, the creation of the Automated Clearing House system and     NACHA have their roots in this era of our history.  Yet today,     paper currency and checks are still used for the overwhelming     majority of consumer payments, while electronic transfers, such     as those made over the ACH, account for a very small fraction.     In contrast, for the major money and securities markets in this     country, electronic payments are the rule rather than the     exception.  Settlements for these markets generate many of the     electronic funds transfers over the Federal Reserves Fedwire     system and the New York Clearinghouse CHIPS system, which total     more than $2 trillion per day and represent most of the daily     dollar value of payments in this country. With this background in mind, the Federal Reserve has     adopted a view toward the development of new electronic money and     banking products that emphasizes the need for innovation,     particularly in the retail sector, supported by a realistic     approach to regulation.  It is the private sector that must play     the pivotal role in identifying which services consumers and     businesses want, and are willing to pay for, in areas such as     stored-value -- or \"smart\" -- cards and payments over the     Internet, and in the development of new home-banking products.     If the past is any guide, consumer acceptance and use of new     payment and banking technologies will grow slowly, and we can be     certain that many of the new products will not succeed     commercially.  But those products that do prove to reduce costs     and improve the choices available to consumers and businesses in     conducting their economic activities could gain widespread     acceptance in the longer term. Competition in these efforts is healthy, particularly     in areas where new technologies must be turned into practical     products that, in many cases, will compete with older,     established payment methods and delivery channels.  Although I     would expect that banks will continue to serve as the core of the     payment system, non-banking organizations, which traditionally     have been active in this field, appear to be contributing to the     competitive environment and serving as an impetus to innovation.     Heavy-handed, preemptive attempts at regulating these products     and the competitive process before significant social risks have     been demonstrated would likely handicap innovation for no     compelling reason.  On the other hand, history also suggests     that, if significant problems affecting the economic interests     and well-being of a wide group of our citizens were to arise in     the future, there would be a corresponding legislative and     regulatory response.  While we do not see the need for new     substantive regulations at this time, there is an on-going need     to review existing regulations and supervisory practices in order     to adapt to technological as well as financial innovations, as I     will mention later. Let me now turn to the Federal Reserves views of the     potential impact of retail electronic banking and payments on the     three primary central banking functions:  monetary policy,     banking supervision, and the payment system.  In these as well as     related areas, such as consumer privacy and industry competition,     the policy issues being raised in the current debate about     electronic payments are the same as those analyzed in the 1970s     by the national EFT Commission.  In fact, in many cases the     striking parallels give the distinct impression that \"weve been     here before.\" As for the conduct of monetary policy, in hindsight, it     may seem surprising that there were concerns at that time about     the impact of the ACH.  Then as now, the potential impact on     monetary policy of new electronic payment products has been     greatly exaggerated.  As with the use of the ACH, we would not     expect that the expansion of electronic delivery of existing     banking services will have appreciable effects on the money     supply or the money markets.  In contrast, \"electronic cash\" or     other new electronic payment products, if successful, could     gradually lead to shifts among different forms of money held by     consumers and thus potentially affect the behavior of the     monetary aggregates.  Yet concerns about loss of \"control\" of the     money supply are misdirected.  In the last twenty years, major     shifts caused by other financial innovations have led to some     changes over time in the ways in which monetary policy is     formulated, with the monetary aggregates now playing a lesser     role.  Moreover, financial innovation has not seriously     undermined central banks ability to implement policy, although     adaptations have sometimes been called for. Although growth rates of the money supply are no longer     the central focus of monetary policy making, the Federal Reserve     still needs to monitor the monetary aggregates carefully in the     policy process, and it will remain important that the aggregates     accurately measure the various instruments that are being used as     money.  Accordingly, we do expect to include any significant     amounts of new general-purpose payment instruments, such as     balances on stored-value cards, in the monetary aggregates, and     the Federal Reserve has the statutory authority to require any     necessary reports from depository institutions.  If new payment     instruments were issued by nonbanks, we would expect to obtain     voluntary reports from issuers, as we traditionally have done     with travelers checks. Before I move on to the topic of banking supervision,     I would like to touch on the question of \"seigniorage,\" a term     often used for income that governments generate through issuance     of non-interest bearing coin and currency.  First, the amount of     currency displaced by new payment products relative to the amount     outstanding, and the corresponding impact on federal revenues in     the near term, is likely to be very small in percentage terms.     For example, in a scenario in which every resident of the United     States held $150 on a stored-value card or electronic cash     account, which I view as highly optimistic over a near-to-medium-     term horizon, the total value outstanding would amount to less     than $50 billion, or only about 10 percent of the currency stock.     Moreover, estimates are that as much as two-thirds of the value     of U.S. currency circulates abroad, a market where holders may be     even more resistant to giving up Federal Reserve notes for     privately issued electronic products.  Second, even if there is     some erosion of federal revenues due to declining demand for     currency, this should not be a governing factor in public policy     toward innovative payment products.  Indeed, existing products     such as credit and debit cards, along with checking accounts,     have probably reduced the use of currency over time relative to     what it would otherwise have been, which is a natural outcome of     innovation and improvement in banking and payment systems. Second, banking supervision.  While any substantial     implications for monetary and fiscal policy are well into the     future, new electronic banking services could require changes in     the way that banking supervision is conducted in the relatively     near term.  The Federal Reserve is responsible for examining and     assessing the safety and soundness of bank holding companies,     state-chartered Federal Reserve member banks, and U.S. branches     and agencies of foreign banks.  These examinations include a     review of institutions information systems, including security     controls and contingency arrangements.  Internet-based home     banking services, as well as new payment products such as stored-     value cards, have the potential to expose institutions to     significant liability if security measures were breached for     fraudulent or malicious purposes.  Of course, institutions have     strong incentives to protect themselves against these risks, and     early indications are that the more sophisticated are investing     considerable resources in doing so. The Federal Reserve is actively monitoring developments     in this area so as to be in a strong position to address any     supervisory concerns that may arise.  We are reviewing the way     that we examine banks information systems to address     developments in electronic banking, among other things.  However,     banking regulators cannot possibly assess the adequacy of every     Internet firewall or smart card.  Rather, the role of regulators     is to require policies and procedures to be in place within     banking organizations to ensure that risks are identified and     managed.  For example, the Board recently approved the first     application of a bank holding company for a subsidiary to engage     in data processing activities that support the provision of     banking and financial services over the Internet.  In this     approval order, involving the widely publicized Security First     Network Bank, which is offering retail banking services primarily     over the Internet, the Board noted that it expects banking     organizations considering providing such services to analyze     carefully the associated risks and to evaluate whether those     risks are consistent with their policies relating to the security     of customer information and other data.  Of course, banks may     first need to assure themselves that their existing information     security policies and procedures are adequate for an expanding     range of electronic banking activities.  I would hope and expect     such safety evaluations to be demanded by customers, as well as     regulators. The third main area of central bank responsibility is     the payment system.  It may be helpful to begin by considering     the nature of payment systems and how they might be affected by     new electronic payment products.  First, all payment systems     consist of money and the means of transferring money from one     individual or organization to another.  New electronic payment     methods that can be envisioned do not change this fact, although     they may result in different forms of money and new technology     for executing transfers.  Second, the payment system comprises     several main sectors, ranging from large financial institutions     that play a major role both as users and providers of many     different payment services, to consumers and small businesses     that primarily use smaller value payment systems.  Of course, the     Federal Reserve also plays a unifying role in the payment system     as the provider of currency, interbank clearing and settlement     services, and, in some cases, regulator. New electronic payment products, such as stored-value     cards and Internet payment services, are designed primarily to     automate the billions of relatively small-value transactions     involving consumers and non-financial businesses.  The     transactions involved are as diverse as the commercial economy of     the United States, and the future needs for payment systems, both     in traditional face-to-face business and in commerce over open     networks such as the Internet, are evolving daily. While the Federal Reserves interbank payment services,     such as Fedwire and ACH, have been highly automated for years, we     are examining areas where we can make use of new technology where     appropriate.  For example, we are continuing to keep abreast of     new developments in areas such as encryption, electronic     communications, and data security to ensure that our existing     payment systems take full advantage of any improvements.  As a     side point, I might mention that we are also making use of the     Internet to provide public information services; the Reserve     Banks and the Board of Governors now maintain home pages on the     Internets World Wide Web, where we provide up-to-date     information that may be useful to the general public, such as     monetary and economic statistics and Federal Reserve     publications. As I have mentioned on previous occasions, however, I     do not anticipate that the Federal Reserve will seek to provide a     new retail electronic payment product in this emerging industry.     In the 1970s, the Federal Reserve took a central role in     developing the ACH system on behalf of the banking industry, and     then explicitly subsidized operation of the ACH for some time.     Now, twenty years later, circumstances are sufficiently different     that we do not believe that a similar approach would be necessary     or desirable to advance the efficiency and effectiveness of the     payment system.  There is no lack of private sector investment in     providing new products and new means of delivering services to     consumers.  Experimentation is needed to determine which products     best fit consumers needs, but history has shown that the private     sector, rather than government, is best able to perform this     role. The Federal Reserve is, however, examining ways in     which we can support industry initiatives where appropriate.  For     example, we are currently reviewing our existing interbank net     settlement services for check clearinghouses and private ACH     operators and considering whether similar services could be     provided for other monetary instruments that the banking industry     may offer to their customers. The Federal Reserve also has specific regulatory     responsibilities as well as a general interest in the continuing     integrity of the payment system.  Some have raised concerns that     new electronic payment products, such as those that could be used     over the Internet or are offered by unregulated entities, could     create new avenues for criminal financial activities or threaten     the integrity of the payment system.  Although the Federal     Reserve, as well as other authorities, will be vigilant in     monitoring developments, we believe that these concerns are     premature.  Until new payment products gain widespread     acceptance, their usefulness in criminal activities will     necessarily be limited.  Moreover, the measures that prudent     institutions will impose to limit the security risks in offering     new products, such as relatively low monetary limits and     transaction record keeping where practical, will also limit their     impact on the payment system more broadly.  Of course, if these     instruments were to spread more quickly than expected and were     provided by organizations that did not have due regard for the     safety of funds entrusted to them, concerns would be greater, as     would the likelihood of regulatory actions.  But we do not see     this prospect on the horizon at this stage. We have focused attention recently on modernizing     existing regulations in the context of our regulatory planning     and review process as well as clarifying how they apply to new     technologies; these efforts should serve to reduce any latent     regulatory barriers or uncertainty that might hinder development     of electronic payment products and services.  For example, the     Board recently adopted changes to Regulation E that would permit     consumers to provide appropriate electronic authorization for     electronic funds transfers, in place of a written signature.  We     have also proposed additional changes to Regulation E under which     required information, such as certain notices and disclosures,     could be transmitted electronically, for example, in home banking     systems. As you probably know, the Federal Reserve Board also     recently issued a request for public comment on the treatment of     stored-value cards under the Electronic Fund Transfer Act and     Regulation E.  The proposal would exempt many stored-value cards     from Regulation E provisions, such as liability limits for     unauthorized transfers, error resolution procedures, and printed     receipts and account statements.  Cards with maximum balances of     less than $100 would be wholly exempt, while issuers of most     larger-value cards would need to disclose the terms and     conditions of the cards to customers, a practice that would be     prudent for any new product.  I hope industry participants as     well as potential users will provide comments to help us refine     the proposal over the coming months and ensure that it provides     the appropriate level of consumer protection without unnecessary     and costly regulatory burdens or undesirable incentives. History has shown that technological innovations can     provide widespread benefits across society.  The Federal Reserve     welcomes private-sector investment and innovation to improve     efficiency and effectiveness in all areas of banking and payments     activities, while at the same time preserving the safety and     soundness of the financial system.  We are always open to     discussions and suggestions from the industry in this respect and     on any other issues involving emerging money and banking     products.  This is the strategy I expect we will pursue as     experience with new electronic money and banking products unfolds     over the next few years.'"
            ]
          },
          "metadata": {
            "tags": []
          },
          "execution_count": 43
        }
      ]
    },
    {
      "cell_type": "code",
      "metadata": {
        "id": "YORNlWjmAitA",
        "colab": {
          "base_uri": "https://localhost:8080/",
          "height": 0
        },
        "outputId": "bb2b47b4-9d99-49a1-8cfb-ac9a9d4c7e8d"
      },
      "source": [
        "speech_split_df['text'][0]"
      ],
      "execution_count": 44,
      "outputs": [
        {
          "output_type": "execute_result",
          "data": {
            "application/vnd.google.colaboratory.intrinsic+json": {
              "type": "string"
            },
            "text/plain": [
              "'It is a pleasure to be here this afternoon to provide the Federal Reserves perspective on recent developments in the field of electronic money and banking To begin let me remind you that progress in the retail electronic banking sector so far has been slow in the United States Twenty years ago a national Commission was appointed by the Congress to study many of the issues surrounding emerging electronic funds transfer systems particularly as they were seen to affect consumers and the general public The assumption at that time was that the use of currency and checks in the United States would rapidly disappear Indeed the creation of the Automated Clearing House system and NACHA have their roots in this era of our history Yet today paper currency and checks are still used for the overwhelming majority of consumer payments while electronic transfers such as those made over the ACH account for a very small fraction In contrast for the major money and securities markets in this country electronic payments are the rule rather than the exception Settlements for these markets generate many of the electronic funds transfers over the Federal Reserves Fedwire system and the New York Clearinghouse CHIPS'"
            ]
          },
          "metadata": {
            "tags": []
          },
          "execution_count": 44
        }
      ]
    },
    {
      "cell_type": "code",
      "metadata": {
        "id": "1zHn-1jEAmv4",
        "colab": {
          "base_uri": "https://localhost:8080/",
          "height": 0
        },
        "outputId": "5ca1c16b-9a56-4579-9d80-dedba91f5d8a"
      },
      "source": [
        "speech_keyword_df['text'][0]"
      ],
      "execution_count": 45,
      "outputs": [
        {
          "output_type": "execute_result",
          "data": {
            "application/vnd.google.colaboratory.intrinsic+json": {
              "type": "string"
            },
            "text/plain": [
              "'Economic theory, in the form of the long-run neutrality of money, tells us that monetary policy cannot affect the level or growth rate of output in the long run.  So dont saddle monetary policy with responsibilities for stimulating the growth of productive capacity.  If it were easy to produce more long-run growth simply by printing money we would have monetized our way to dramatically higher living standards a long time ago. What monetary policy does do, according to economic theory, is set the rate of inflation in the long run.  As I said in my opening statement in my confirmation hearings, when it comes to assigning responsibility for inflation, the buck literally stops at the Federal Reserve. Price stability is therefore the singular and unique long-run objective for monetary policy.  Fiscal policy, on the other hand, can be an instrument of growth policy, through its effect on national saving via the structural budget deficit, through incentive effects on work, saving and investment via tax rates and tax structure, and through public investment in human capital and physical infrastructure.  While we should not overstate what fiscal policy can deliver on this score, we should remember where the levers for growth policy are located. Outlook Issues Challenging Monetary Policy TodayThere are two questions related to the current economic outlook that, in my view, challenge monetary policy in the near term.  I expect you will focus on these issues in your outlook session tomorrow.  First, in the absence of policy adjustment, is the economy slowing or likely to slow to trend quickly enough to stabilize the unemployment rate at its current level?  Second, is the current unemployment already so low that remaining at this level would trigger a steady increase in the rate of inflation? The CPI, the inflation measure which receives the most attention, is, admittedly, a bit of an outlier.  Its inflation rate is closer to 3% than to 2%, resulting in an unusually wide gap between the inflation rates for the CPI and other broad price indices.  Still, even in the case of the CPI, inflation is lower over the year ended in the second quarter than over the preceding year for both overall and core measures. Last weeks labor market report underscores once again the considerable momentum of the economic expansion and highlights the issues Ive been discussing.  The economy continued to generate jobs at an impressive clip last month--indeed, at a pace faster than the trend growth of the labor force.  The unemployment rate dropped noticeably below the range over the past two years, to 5.1 %.  Moreover, average wage rates increased substantially, presumable reflecting the pressures that employers face in attempting to attract and retain workers in a relatively tight labor market. Opportunistic DisinflationA couple of years ago, I gave the name \"opportunistic disinflation\" to an alternative strategy for bridging between short-run policy and long-run goals, a strategy that I observed the Federal Reserve to be following at the time. I will use this strategy this evening to describe my own position.  But I want to make clear that I am not speaking for others on the FOMC or describing official policy.  Under this strategy, once inflation becomes modest, as today, Federal Reserve policy in the near term focuses on sustaining trend growth at full employment at the prevailing inflation rate.  At this point the short-run priorities are twofold: sustaining the expansion and preventing an acceleration of inflation.  This is, nevertheless, a strategy for disinflation because it takes advantage of the opportunity of inevitable recessions and potential positive supply shocks to ratchet down inflation over time.  Proponents of this strategy sometimes describe this approach as reducing inflation cycle-to-cycle or describe the economy as being one recession from price stability. Under this strategy, if growth were to slow to trend, the unemployment rate were to remain where it is, and inflation were to remain stable, monetary policy would remain on hold, ready to respond aggressively to any acceleration of inflation, but otherwise prepared to be patient and accept the lower inflation that will accompany the next recession or favorable supply shock. So let me sum up how I look at the challenges facing monetary policy in the current economic environment and in light of the longer run strategic issues I have set out this evening.  In the near term, I believe we should be vigilant to insure that the progress made to lower inflation to the current level is sustained.  I am, as a result, focused on forecasts of near-term growth relative to trend as a forward-looking indicator of changes in utilization rates, on utilization rates themselves as forward-looking indicators of inflation pressures, on labor costs as a key factor in the transmission of demand pressure to price inflation, and, given the uncertainty about NAIRU, on readings of the current inflation rate.  I think I have covered all the bases!  While I am focused on holding the line on inflation in the short run, I am also mindful of the importance of continuing progress toward price stability over the longer run and of the importance that current decisions be part of a longer strategic plan.  Nevertheless, you will not hear me complain or apologize if, over the next year, the chain GDP deflator remains near 2%, the unemployment rate remains near 5 1/2%, and the economy grows near trend.'"
            ]
          },
          "metadata": {
            "tags": []
          },
          "execution_count": 45
        }
      ]
    },
    {
      "cell_type": "markdown",
      "metadata": {
        "id": "k9sls-eSrPeb"
      },
      "source": [
        "## Save the training data"
      ]
    },
    {
      "cell_type": "code",
      "metadata": {
        "id": "KraCpw3crPee"
      },
      "source": [
        "def save_data(df, file_name, dir_name='./data/'):\n",
        "    '''\n",
        "    Save the given df to pickle file and csv file in the given directory.\n",
        "    '''\n",
        "    if not os.path.exists(dir_name):\n",
        "        os.mkdir(dir_name)\n",
        "    \n",
        "    # Save results to a picke file\n",
        "    file = open(dir_name + file_name + '.pickle', 'wb')\n",
        "    pickle.dump(df, file)\n",
        "    file.close()\n",
        "    print(\"Data Saved to a pickle file in {} !\".format(dir_name))\n",
        "    "
      ],
      "execution_count": 46,
      "outputs": []
    },
    {
      "cell_type": "code",
      "metadata": {
        "id": "kvhYIrIF-vMb",
        "colab": {
          "base_uri": "https://localhost:8080/"
        },
        "outputId": "a24ba664-3fe5-4cc3-de4b-e86d1fc54f66"
      },
      "source": [
        "save_data(speech_split_df, 'governor_speech_split')\n",
        "save_data(speech_keyword_df, 'governor_speech_keyword')"
      ],
      "execution_count": 47,
      "outputs": [
        {
          "output_type": "stream",
          "text": [
            "Data Saved to a pickle file in ./data/ !\n",
            "Data Saved to a pickle file in ./data/ !\n"
          ],
          "name": "stdout"
        }
      ]
    },
    {
      "cell_type": "markdown",
      "metadata": {
        "id": "PHgzCGUwVvLW"
      },
      "source": [
        "## Testing Pickle"
      ]
    },
    {
      "cell_type": "code",
      "metadata": {
        "id": "3KgVGnQfrPek"
      },
      "source": [
        "import pickle\n",
        "f = open('./data/governor_speech_keyword.pickle', 'rb')\n",
        "mydict = pickle.load(f)\n",
        "f.close()"
      ],
      "execution_count": 48,
      "outputs": []
    },
    {
      "cell_type": "code",
      "metadata": {
        "id": "tS1HsgxgBxn5",
        "colab": {
          "base_uri": "https://localhost:8080/",
          "height": 0
        },
        "outputId": "780ee6f9-3e47-46a0-ed13-050385fd1a17"
      },
      "source": [
        "mydict"
      ],
      "execution_count": 49,
      "outputs": [
        {
          "output_type": "execute_result",
          "data": {
            "text/html": [
              "<div>\n",
              "<style scoped>\n",
              "    .dataframe tbody tr th:only-of-type {\n",
              "        vertical-align: middle;\n",
              "    }\n",
              "\n",
              "    .dataframe tbody tr th {\n",
              "        vertical-align: top;\n",
              "    }\n",
              "\n",
              "    .dataframe thead th {\n",
              "        text-align: right;\n",
              "    }\n",
              "</style>\n",
              "<table border=\"1\" class=\"dataframe\">\n",
              "  <thead>\n",
              "    <tr style=\"text-align: right;\">\n",
              "      <th></th>\n",
              "      <th>type</th>\n",
              "      <th>date</th>\n",
              "      <th>title</th>\n",
              "      <th>speaker</th>\n",
              "      <th>word_count</th>\n",
              "      <th>text</th>\n",
              "    </tr>\n",
              "  </thead>\n",
              "  <tbody>\n",
              "    <tr>\n",
              "      <th>0</th>\n",
              "      <td>speech</td>\n",
              "      <td>1996-09-08</td>\n",
              "      <td>Monetary policy objectives and strategy</td>\n",
              "      <td>Governor Laurence H. Meyer</td>\n",
              "      <td>896</td>\n",
              "      <td>Economic theory, in the form of the long-run neutrality of money, tells us that monetary policy cannot affect the level or growth rate of output in the long run.  So dont saddle monetary policy wi...</td>\n",
              "    </tr>\n",
              "    <tr>\n",
              "      <th>1</th>\n",
              "      <td>speech</td>\n",
              "      <td>1996-10-02</td>\n",
              "      <td>Small business is big business</td>\n",
              "      <td>Governor Lawrence B. Lindsey</td>\n",
              "      <td>470</td>\n",
              "      <td>But, even those businesses which do not become industrial behemoths still have a vitalrole to play.  Small businesses build our homes and unclog the drains when they get full, theymonitor our heal...</td>\n",
              "    </tr>\n",
              "    <tr>\n",
              "      <th>2</th>\n",
              "      <td>speech</td>\n",
              "      <td>1996-10-09</td>\n",
              "      <td>Here we go again?</td>\n",
              "      <td>Governor Lawrence B. Lindsey</td>\n",
              "      <td>470</td>\n",
              "      <td>Without any question the most important economic development has been a decline in the underlying rate of inflation and the consequent decline in medium- and long-term interest rates.  Lets do the...</td>\n",
              "    </tr>\n",
              "    <tr>\n",
              "      <th>3</th>\n",
              "      <td>speech</td>\n",
              "      <td>1996-10-11</td>\n",
              "      <td>How to grow faster</td>\n",
              "      <td>Governor Lawrence B. Lindsey</td>\n",
              "      <td>544</td>\n",
              "      <td>There is, however, one option that from time immemorial always seems to find its wayinto the political discourse: print money.   This year we have frequently heard from variousquarters that it is ...</td>\n",
              "    </tr>\n",
              "    <tr>\n",
              "      <th>4</th>\n",
              "      <td>speech</td>\n",
              "      <td>1997-01-05</td>\n",
              "      <td>The role of structural macroeconomic models</td>\n",
              "      <td>Governor Laurence H. Meyer</td>\n",
              "      <td>1230</td>\n",
              "      <td>There are two important differences from the private sector use of models for forecasting, at least based on my experience at LHM&amp;A.  First, the staff is not truly making a forecast of economic ac...</td>\n",
              "    </tr>\n",
              "    <tr>\n",
              "      <th>...</th>\n",
              "      <td>...</td>\n",
              "      <td>...</td>\n",
              "      <td>...</td>\n",
              "      <td>...</td>\n",
              "      <td>...</td>\n",
              "      <td>...</td>\n",
              "    </tr>\n",
              "    <tr>\n",
              "      <th>358</th>\n",
              "      <td>speech</td>\n",
              "      <td>2020-01-16</td>\n",
              "      <td>The Outlook for Housing</td>\n",
              "      <td>Governor Michelle W. Bowman</td>\n",
              "      <td>675</td>\n",
              "      <td>Few sectors are as central to the success of our economy and the lives of American families as housing. If we include the amount families spend on shelter each month as well as the construction of...</td>\n",
              "    </tr>\n",
              "    <tr>\n",
              "      <th>359</th>\n",
              "      <td>speech</td>\n",
              "      <td>2020-02-10</td>\n",
              "      <td>Empowering Community Banks</td>\n",
              "      <td>Governor Michelle W. Bowman</td>\n",
              "      <td>138</td>\n",
              "      <td>My colleagues and I on the Federal Open Market Committee had our most recent meeting about two weeks ago, when we decided to keep our target range for the federal funds rate unchanged at 1-1/2 to ...</td>\n",
              "    </tr>\n",
              "    <tr>\n",
              "      <th>360</th>\n",
              "      <td>speech</td>\n",
              "      <td>2020-02-21</td>\n",
              "      <td>Monetary Policy Strategies and Tools When Inflation and Interest Rates Are Low</td>\n",
              "      <td>Governor Lael Brainard</td>\n",
              "      <td>675</td>\n",
              "      <td>Looking AheadThe current generation of central bankers faces a different core challenge than the last generation, with substantially smaller scope for cutting interest rates to buffer the economy ...</td>\n",
              "    </tr>\n",
              "    <tr>\n",
              "      <th>361</th>\n",
              "      <td>speech</td>\n",
              "      <td>2020-07-14</td>\n",
              "      <td>Navigating Monetary Policy through the Fog of COVID</td>\n",
              "      <td>Governor Lael Brainard</td>\n",
              "      <td>395</td>\n",
              "      <td>Finally, in keeping with the global nature of the pandemic, foreign developments could impinge on the U.S. recovery. The International Monetary Fund estimates that real global gross domestic produ...</td>\n",
              "    </tr>\n",
              "    <tr>\n",
              "      <th>362</th>\n",
              "      <td>speech</td>\n",
              "      <td>2020-09-01</td>\n",
              "      <td>Bringing the Statement on Longer-Run Goals and Monetary Policy Strategy into Alignment with Longer-Run Changes in the Economy</td>\n",
              "      <td>Governor Lael Brainard</td>\n",
              "      <td>496</td>\n",
              "      <td>Key Longer-Run Changes in the EconomyThree related features of the economys new normal called for the reassessment of the Committees longer-run goals and strategy.2 First, the equilibrium interest...</td>\n",
              "    </tr>\n",
              "  </tbody>\n",
              "</table>\n",
              "<p>363 rows × 6 columns</p>\n",
              "</div>"
            ],
            "text/plain": [
              "       type  ...                                                                                                                                                                                                     text\n",
              "0    speech  ...  Economic theory, in the form of the long-run neutrality of money, tells us that monetary policy cannot affect the level or growth rate of output in the long run.  So dont saddle monetary policy wi...\n",
              "1    speech  ...  But, even those businesses which do not become industrial behemoths still have a vitalrole to play.  Small businesses build our homes and unclog the drains when they get full, theymonitor our heal...\n",
              "2    speech  ...  Without any question the most important economic development has been a decline in the underlying rate of inflation and the consequent decline in medium- and long-term interest rates.  Lets do the...\n",
              "3    speech  ...  There is, however, one option that from time immemorial always seems to find its wayinto the political discourse: print money.   This year we have frequently heard from variousquarters that it is ...\n",
              "4    speech  ...  There are two important differences from the private sector use of models for forecasting, at least based on my experience at LHM&A.  First, the staff is not truly making a forecast of economic ac...\n",
              "..      ...  ...                                                                                                                                                                                                      ...\n",
              "358  speech  ...  Few sectors are as central to the success of our economy and the lives of American families as housing. If we include the amount families spend on shelter each month as well as the construction of...\n",
              "359  speech  ...  My colleagues and I on the Federal Open Market Committee had our most recent meeting about two weeks ago, when we decided to keep our target range for the federal funds rate unchanged at 1-1/2 to ...\n",
              "360  speech  ...  Looking AheadThe current generation of central bankers faces a different core challenge than the last generation, with substantially smaller scope for cutting interest rates to buffer the economy ...\n",
              "361  speech  ...  Finally, in keeping with the global nature of the pandemic, foreign developments could impinge on the U.S. recovery. The International Monetary Fund estimates that real global gross domestic produ...\n",
              "362  speech  ...  Key Longer-Run Changes in the EconomyThree related features of the economys new normal called for the reassessment of the Committees longer-run goals and strategy.2 First, the equilibrium interest...\n",
              "\n",
              "[363 rows x 6 columns]"
            ]
          },
          "metadata": {
            "tags": []
          },
          "execution_count": 49
        }
      ]
    }
  ]
}